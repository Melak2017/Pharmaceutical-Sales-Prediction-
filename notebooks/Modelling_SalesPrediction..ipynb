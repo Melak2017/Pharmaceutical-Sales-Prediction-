{
 "cells": [
  {
   "cell_type": "markdown",
   "id": "95b2503e",
   "metadata": {},
   "source": [
    "## <font color='darkolivegreen'> MODELING USING PIPLINE </font>"
   ]
  },
  {
   "cell_type": "markdown",
   "id": "4adffed9",
   "metadata": {},
   "source": [
    "#### IMPORT PACKAGES"
   ]
  },
  {
   "cell_type": "code",
   "execution_count": 1,
   "id": "e4813911",
   "metadata": {},
   "outputs": [],
   "source": [
    "# Ignore Warnings\n",
    "import warnings\n",
    "warnings.filterwarnings(\"ignore\")\n",
    "\n",
    "#for easy access to path\n",
    "import sys\n",
    "import os\n",
    "\n",
    "#importing packages for data manuplation and visualization\n",
    "import numpy as np\n",
    "import pandas as pd\n",
    "\n",
    "# Visualization\n",
    "import seaborn as sns\n",
    "import matplotlib.pyplot as plt\n",
    "import matplotlib as mpl\n",
    "\n",
    "# Visualization Configuration\n",
    "%matplotlib inline\n",
    "sns.set()\n",
    "\n",
    "from sklearn.base import BaseEstimator, TransformerMixin\n",
    "from sklearn.model_selection import train_test_split, GridSearchCV\n",
    "from sklearn.ensemble import RandomForestRegressor\n",
    "from sklearn.preprocessing import StandardScaler, OneHotEncoder, LabelEncoder\n",
    "from sklearn.compose import ColumnTransformer\n",
    "from sklearn.pipeline import Pipeline\n",
    "from sklearn.impute import SimpleImputer\n",
    "import mlflow\n"
   ]
  },
  {
   "cell_type": "code",
   "execution_count": 2,
   "id": "e84fc16c",
   "metadata": {},
   "outputs": [],
   "source": [
    "from sklearn.model_selection import train_test_split \n",
    "from sklearn.linear_model import LinearRegression\n",
    "from sklearn.preprocessing import StandardScaler\n",
    "from sklearn.ensemble import RandomForestRegressor\n",
    "from sklearn.compose import ColumnTransformer\n",
    "from sklearn.pipeline import Pipeline\n",
    "from sklearn.impute import SimpleImputer\n",
    "from sklearn import preprocessing\n",
    "from sklearn import metrics"
   ]
  },
  {
   "cell_type": "code",
   "execution_count": 4,
   "id": "573e0b6f",
   "metadata": {},
   "outputs": [],
   "source": [
    "from sklearn.metrics import mean_squared_error, mean_absolute_error, r2_score\n",
    "from sklearn.model_selection import train_test_split\n",
    "from sklearn.linear_model import ElasticNet\n",
    "from urllib.parse import urlparse\n",
    "import mlflow\n",
    "import mlflow.sklearn"
   ]
  },
  {
   "cell_type": "code",
   "execution_count": 3,
   "id": "c7877e85",
   "metadata": {},
   "outputs": [],
   "source": [
    "from datetime import datetime\n",
    "from pickle import dump\n",
    "import mlflow\n",
    "from sklearn.svm import SVC\n",
    "from sklearn.model_selection import train_test_split, GridSearchCV"
   ]
  },
  {
   "cell_type": "code",
   "execution_count": null,
   "id": "c2e0a6ba",
   "metadata": {},
   "outputs": [],
   "source": [
    "from sklearn.metrics import roc_auc_score, roc_curve, confusion_matrix, accuracy_score, precision_recall_curve, f1_score, mean_squared_error, r2_score, mean_absolute_error, auc"
   ]
  },
  {
   "cell_type": "code",
   "execution_count": 5,
   "id": "e79a7d88",
   "metadata": {},
   "outputs": [],
   "source": [
    "#Acessing scripts and data path\n",
    "sys.path.append(os.path.abspath(os.path.join('data')))\n",
    "sys.path.insert(0,'../scripts/')"
   ]
  },
  {
   "cell_type": "code",
   "execution_count": 6,
   "id": "f23b56d6",
   "metadata": {},
   "outputs": [],
   "source": [
    "#import local libraries\n",
    "from clean_train_test_df import CleanStoreDf\n",
    "from data_preview import DataPreview\n",
    "from data_loader import load_df_from_csv\n",
    "from data_manipulation import DataManipulator\n",
    "from plots import *\n",
    "from result import ResultPicker\n",
    "from data_loader import load_df_from_csv\n",
    "from ml_modeling import *"
   ]
  },
  {
   "cell_type": "markdown",
   "id": "f579a5e3",
   "metadata": {},
   "source": [
    "##### LOAD DATA"
   ]
  },
  {
   "cell_type": "code",
   "execution_count": 15,
   "id": "132d83dc",
   "metadata": {},
   "outputs": [],
   "source": [
    "#Load our clean merged data\n",
    "clean_df =pd.read_csv('../data/store_train.csv')"
   ]
  },
  {
   "cell_type": "code",
   "execution_count": 8,
   "id": "2609a5c7",
   "metadata": {},
   "outputs": [
    {
     "data": {
      "text/html": [
       "<div>\n",
       "<style scoped>\n",
       "    .dataframe tbody tr th:only-of-type {\n",
       "        vertical-align: middle;\n",
       "    }\n",
       "\n",
       "    .dataframe tbody tr th {\n",
       "        vertical-align: top;\n",
       "    }\n",
       "\n",
       "    .dataframe thead th {\n",
       "        text-align: right;\n",
       "    }\n",
       "</style>\n",
       "<table border=\"1\" class=\"dataframe\">\n",
       "  <thead>\n",
       "    <tr style=\"text-align: right;\">\n",
       "      <th></th>\n",
       "      <th>DayOfWeek</th>\n",
       "      <th>WeekDay</th>\n",
       "      <th>Year</th>\n",
       "      <th>Month</th>\n",
       "      <th>Season</th>\n",
       "      <th>Day</th>\n",
       "      <th>MonthTiming</th>\n",
       "      <th>Sales</th>\n",
       "      <th>Customers</th>\n",
       "      <th>Open</th>\n",
       "      <th>...</th>\n",
       "      <th>Assortment</th>\n",
       "      <th>CompetitionDistance</th>\n",
       "      <th>CompetitionOpenSinceMonth</th>\n",
       "      <th>CompetitionOpenSinceYear</th>\n",
       "      <th>Promo2</th>\n",
       "      <th>Promo2SinceWeek</th>\n",
       "      <th>Promo2SinceYear</th>\n",
       "      <th>PromoInterval</th>\n",
       "      <th>SalesPerCustomer</th>\n",
       "      <th>CompetitionOpenSince</th>\n",
       "    </tr>\n",
       "  </thead>\n",
       "  <tbody>\n",
       "    <tr>\n",
       "      <th>0</th>\n",
       "      <td>0.501484</td>\n",
       "      <td>0.630672</td>\n",
       "      <td>1.502077</td>\n",
       "      <td>0.346724</td>\n",
       "      <td>0.389712</td>\n",
       "      <td>1.740766</td>\n",
       "      <td>1.205894</td>\n",
       "      <td>-0.063134</td>\n",
       "      <td>-0.067027</td>\n",
       "      <td>0.452399</td>\n",
       "      <td>...</td>\n",
       "      <td>-0.940975</td>\n",
       "      <td>-0.538742</td>\n",
       "      <td>0.436247</td>\n",
       "      <td>-0.385752</td>\n",
       "      <td>-1.001128</td>\n",
       "      <td>-0.421904</td>\n",
       "      <td>-0.305054</td>\n",
       "      <td>0.045131</td>\n",
       "      <td>-0.093996</td>\n",
       "      <td>0.595717</td>\n",
       "    </tr>\n",
       "    <tr>\n",
       "      <th>1</th>\n",
       "      <td>0.000831</td>\n",
       "      <td>0.630672</td>\n",
       "      <td>1.502077</td>\n",
       "      <td>0.346724</td>\n",
       "      <td>0.389712</td>\n",
       "      <td>1.626969</td>\n",
       "      <td>1.205894</td>\n",
       "      <td>-0.136239</td>\n",
       "      <td>-0.092863</td>\n",
       "      <td>0.452399</td>\n",
       "      <td>...</td>\n",
       "      <td>-0.940975</td>\n",
       "      <td>-0.538742</td>\n",
       "      <td>0.436247</td>\n",
       "      <td>-0.385752</td>\n",
       "      <td>-1.001128</td>\n",
       "      <td>-0.421904</td>\n",
       "      <td>-0.305054</td>\n",
       "      <td>0.045131</td>\n",
       "      <td>-0.207208</td>\n",
       "      <td>0.595717</td>\n",
       "    </tr>\n",
       "    <tr>\n",
       "      <th>2</th>\n",
       "      <td>-0.499823</td>\n",
       "      <td>0.630672</td>\n",
       "      <td>1.502077</td>\n",
       "      <td>0.346724</td>\n",
       "      <td>0.389712</td>\n",
       "      <td>1.513173</td>\n",
       "      <td>1.205894</td>\n",
       "      <td>-0.207840</td>\n",
       "      <td>-0.158887</td>\n",
       "      <td>0.452399</td>\n",
       "      <td>...</td>\n",
       "      <td>-0.940975</td>\n",
       "      <td>-0.538742</td>\n",
       "      <td>0.436247</td>\n",
       "      <td>-0.385752</td>\n",
       "      <td>-1.001128</td>\n",
       "      <td>-0.421904</td>\n",
       "      <td>-0.305054</td>\n",
       "      <td>0.045131</td>\n",
       "      <td>-0.227101</td>\n",
       "      <td>0.595717</td>\n",
       "    </tr>\n",
       "    <tr>\n",
       "      <th>3</th>\n",
       "      <td>-1.000476</td>\n",
       "      <td>0.630672</td>\n",
       "      <td>1.502077</td>\n",
       "      <td>0.346724</td>\n",
       "      <td>0.389712</td>\n",
       "      <td>1.399377</td>\n",
       "      <td>1.205894</td>\n",
       "      <td>-0.138946</td>\n",
       "      <td>-0.052674</td>\n",
       "      <td>0.452399</td>\n",
       "      <td>...</td>\n",
       "      <td>-0.940975</td>\n",
       "      <td>-0.538742</td>\n",
       "      <td>0.436247</td>\n",
       "      <td>-0.385752</td>\n",
       "      <td>-1.001128</td>\n",
       "      <td>-0.421904</td>\n",
       "      <td>-0.305054</td>\n",
       "      <td>0.045131</td>\n",
       "      <td>-0.303632</td>\n",
       "      <td>0.595717</td>\n",
       "    </tr>\n",
       "    <tr>\n",
       "      <th>4</th>\n",
       "      <td>-1.501129</td>\n",
       "      <td>0.630672</td>\n",
       "      <td>1.502077</td>\n",
       "      <td>0.346724</td>\n",
       "      <td>0.389712</td>\n",
       "      <td>1.285581</td>\n",
       "      <td>1.205894</td>\n",
       "      <td>0.189274</td>\n",
       "      <td>0.096598</td>\n",
       "      <td>0.452399</td>\n",
       "      <td>...</td>\n",
       "      <td>-0.940975</td>\n",
       "      <td>-0.538742</td>\n",
       "      <td>0.436247</td>\n",
       "      <td>-0.385752</td>\n",
       "      <td>-1.001128</td>\n",
       "      <td>-0.421904</td>\n",
       "      <td>-0.305054</td>\n",
       "      <td>0.045131</td>\n",
       "      <td>0.097227</td>\n",
       "      <td>0.595717</td>\n",
       "    </tr>\n",
       "  </tbody>\n",
       "</table>\n",
       "<p>5 rows × 26 columns</p>\n",
       "</div>"
      ],
      "text/plain": [
       "   DayOfWeek   WeekDay      Year     Month    Season       Day  MonthTiming  \\\n",
       "0   0.501484  0.630672  1.502077  0.346724  0.389712  1.740766     1.205894   \n",
       "1   0.000831  0.630672  1.502077  0.346724  0.389712  1.626969     1.205894   \n",
       "2  -0.499823  0.630672  1.502077  0.346724  0.389712  1.513173     1.205894   \n",
       "3  -1.000476  0.630672  1.502077  0.346724  0.389712  1.399377     1.205894   \n",
       "4  -1.501129  0.630672  1.502077  0.346724  0.389712  1.285581     1.205894   \n",
       "\n",
       "      Sales  Customers      Open  ...  Assortment  CompetitionDistance  \\\n",
       "0 -0.063134  -0.067027  0.452399  ...   -0.940975            -0.538742   \n",
       "1 -0.136239  -0.092863  0.452399  ...   -0.940975            -0.538742   \n",
       "2 -0.207840  -0.158887  0.452399  ...   -0.940975            -0.538742   \n",
       "3 -0.138946  -0.052674  0.452399  ...   -0.940975            -0.538742   \n",
       "4  0.189274   0.096598  0.452399  ...   -0.940975            -0.538742   \n",
       "\n",
       "   CompetitionOpenSinceMonth  CompetitionOpenSinceYear    Promo2  \\\n",
       "0                   0.436247                 -0.385752 -1.001128   \n",
       "1                   0.436247                 -0.385752 -1.001128   \n",
       "2                   0.436247                 -0.385752 -1.001128   \n",
       "3                   0.436247                 -0.385752 -1.001128   \n",
       "4                   0.436247                 -0.385752 -1.001128   \n",
       "\n",
       "   Promo2SinceWeek  Promo2SinceYear  PromoInterval  SalesPerCustomer  \\\n",
       "0        -0.421904        -0.305054       0.045131         -0.093996   \n",
       "1        -0.421904        -0.305054       0.045131         -0.207208   \n",
       "2        -0.421904        -0.305054       0.045131         -0.227101   \n",
       "3        -0.421904        -0.305054       0.045131         -0.303632   \n",
       "4        -0.421904        -0.305054       0.045131          0.097227   \n",
       "\n",
       "   CompetitionOpenSince  \n",
       "0              0.595717  \n",
       "1              0.595717  \n",
       "2              0.595717  \n",
       "3              0.595717  \n",
       "4              0.595717  \n",
       "\n",
       "[5 rows x 26 columns]"
      ]
     },
     "execution_count": 8,
     "metadata": {},
     "output_type": "execute_result"
    }
   ],
   "source": [
    "clean_df.head()"
   ]
  },
  {
   "cell_type": "markdown",
   "id": "53ff4f02",
   "metadata": {},
   "source": [
    "## <font color='darkolivegreen'>Random Forest</font>"
   ]
  },
  {
   "cell_type": "code",
   "execution_count": 10,
   "id": "46a7d6cc",
   "metadata": {},
   "outputs": [],
   "source": [
    "#separation the data\n",
    "X = clean_df.drop(['Customers', 'Sales', 'SalesPerCustomer'], axis = 1)\n",
    "y = clean_df['Sales']"
   ]
  },
  {
   "cell_type": "code",
   "execution_count": 16,
   "id": "5c22b472",
   "metadata": {},
   "outputs": [
    {
     "name": "stdout",
     "output_type": "stream",
     "text": [
      "Training and testing split was successful.\n"
     ]
    }
   ],
   "source": [
    "# Splitting Data (60,20,20)\n",
    "X_train, X_test, y_train, y_test = train_test_split(X, y, test_size=0.2, random_state=42)\n",
    "X_train, X_valid, y_train, y_valid = train_test_split(X_train, y_train, test_size=0.2, random_state=42)"
   ]
  },
  {
   "cell_type": "markdown",
   "id": "52fba0ed",
   "metadata": {},
   "source": [
    "> <font color='green'>`Spliting complete.`</font>"
   ]
  },
  {
   "cell_type": "code",
   "execution_count": 12,
   "id": "067d4224",
   "metadata": {},
   "outputs": [],
   "source": [
    "# Define the Pipeline\n",
    "model_pipeline = Pipeline(steps=[('random_forest', RandomForestRegressor(max_depth=10,random_state=2))])"
   ]
  },
  {
   "cell_type": "code",
   "execution_count": 13,
   "id": "d263c351",
   "metadata": {},
   "outputs": [],
   "source": [
    "def eval_metrics(actual, pred):\n",
    "    rmse = np.sqrt(mean_squared_error(actual, pred))\n",
    "    mae = mean_absolute_error(actual, pred)\n",
    "    r2 = r2_score(actual, pred)\n",
    "    print(\"RMSE Score is: {:.5%}\".format(rmse))\n",
    "    print(\"R2 Square Score is: {:.5%}\".format(r2))\n",
    "    print(\"MAE Score is: {:.5%}\".format(mae))\n",
    "    return {f'RMSE Score': rmse, f'R2_Squared': r2, f'MAE Score': mae}"
   ]
  },
  {
   "cell_type": "code",
   "execution_count": 14,
   "id": "03aa6e16",
   "metadata": {},
   "outputs": [
    {
     "name": "stdout",
     "output_type": "stream",
     "text": [
      "RMSE Score is: 52.93644%\n",
      "R2 Square Score is: 71.90404%\n",
      "MAE Score is: 37.50832%\n",
      "RMSE Score is: 52.90944%\n",
      "R2 Square Score is: 72.05642%\n",
      "MAE Score is: 37.50892%\n"
     ]
    }
   ],
   "source": [
    "# Fit the pipeline with the data\n",
    "mlflow.autolog(log_input_examples=True, disable_for_unsupported_versions=True, silent=True)\n",
    "with mlflow.start_run() as run:\n",
    "    best_model = model_pipeline.fit(X_train, y_train)\n",
    "\n",
    "    train_score = best_model.score(X_train, y_train)\n",
    "    valid_score = best_model.score(X_valid, y_valid)\n",
    "    valid_metrics = eval_metrics(y_valid, best_model.predict(X_valid))\n",
    "    test_score = best_model.score(X_test, y_test)\n",
    "    test_metrics = eval_metrics(y_test, best_model.predict(X_test))\n",
    "\n",
    "    mlflow.log_metric(\"Valid Score\", valid_score)\n",
    "    mlflow.log_metrics(valid_metrics)\n",
    "    mlflow.log_metric(\"Test Score\", test_score)\n",
    "    mlflow.log_metrics(test_metrics)"
   ]
  },
  {
   "cell_type": "markdown",
   "id": "8027148a",
   "metadata": {},
   "source": [
    ">`model complete`"
   ]
  },
  {
   "cell_type": "code",
   "execution_count": 22,
   "id": "941006f2",
   "metadata": {},
   "outputs": [],
   "source": [
    "# Create dictionary with candidate learning algorithms and their hyperparameters\n",
    "grid_param = [{\n",
    "     'random_forest': [RandomForestRegressor(max_depth=10, random_state=2)],\n",
    "     'random_forest__bootstrap': [True, True],\n",
    "     'random_forest__ccp_alpha': [0.0],\n",
    "     'random_forest__criterion': ['mse'],\n",
    "     'random_forest__max_depth': [5,8,15],\n",
    "     'random_forest__max_features': ['auto'],\n",
    "     'random_forest__min_impurity_decrease': [0.0],\n",
    "     'random_forest__min_samples_leaf': [1,5],\n",
    "     'random_forest__min_samples_split': [2],\n",
    "     'random_forest__min_weight_fraction_leaf': [0.0],\n",
    "     'random_forest__n_estimators': [100],\n",
    "     'random_forest__oob_score': [False, True],\n",
    "     'random_forest__random_state': [2],\n",
    "     'random_forest__verbose': [0],\n",
    "     'random_forest__warm_start': [True, False]\n",
    "}]\n",
    "\n",
    "    \n",
    "# create a gridsearch of the pipeline, the fit the best model\n",
    "grid_search_pipeline = GridSearchCV(\n",
    "    model_pipeline, grid_param, cv=3, verbose=0, n_jobs=-1)  # Fit grid search"
   ]
  },
  {
   "cell_type": "code",
   "execution_count": 26,
   "id": "3c8f0887",
   "metadata": {},
   "outputs": [],
   "source": [
    "def generate_model_name(mse_score: float) -> str:\n",
    "    now = datetime.now()\n",
    "    dt_string = now.strftime(\"%d-%m-%Y-%H-%M-%S-\")\n",
    "    dt_string = dt_string + \"{:.2%}\".format(mse_score)\n",
    "    return dt_string"
   ]
  },
  {
   "cell_type": "code",
   "execution_count": 27,
   "id": "76c2539a",
   "metadata": {},
   "outputs": [
    {
     "data": {
      "text/plain": [
       "{'RMSE Score': 0.5293644157874668,\n",
       " 'R2_Squared': 0.7190404274836455,\n",
       " 'MAE Score': 0.3750831964535372}"
      ]
     },
     "execution_count": 27,
     "metadata": {},
     "output_type": "execute_result"
    }
   ],
   "source": [
    "valid_metrics"
   ]
  },
  {
   "cell_type": "code",
   "execution_count": 51,
   "id": "57722013",
   "metadata": {},
   "outputs": [
    {
     "data": {
      "text/plain": [
       "Text(0.5, 1.0, 'Valid Metrics')"
      ]
     },
     "execution_count": 51,
     "metadata": {},
     "output_type": "execute_result"
    },
    {
     "data": {
      "image/png": "[encoded data removed]",
      "text/plain": [
       "<Figure size 720x432 with 1 Axes>"
      ]
     },
     "metadata": {},
     "output_type": "display_data"
    }
   ],
   "source": [
    "plt.figure(figsize=(10,6))\n",
    "feat_importances = pd.Series(valid_metrics, index = valid_metrics.keys())\n",
    "feat_importances.nlargest(10).plot(kind='bar',color='khaki');\n",
    "plt.title('Valid Metrics',size=17)"
   ]
  },
  {
   "cell_type": "code",
   "execution_count": 33,
   "id": "d1c31ffd",
   "metadata": {},
   "outputs": [
    {
     "data": {
      "text/plain": [
       "{'RMSE Score': 0.52909444368583,\n",
       " 'R2_Squared': 0.7205641551568762,\n",
       " 'MAE Score': 0.3750892205643945}"
      ]
     },
     "execution_count": 33,
     "metadata": {},
     "output_type": "execute_result"
    }
   ],
   "source": [
    "test_metrics"
   ]
  },
  {
   "cell_type": "code",
   "execution_count": 45,
   "id": "e5ae6f8a",
   "metadata": {},
   "outputs": [
    {
     "data": {
      "text/plain": [
       "Text(0.5, 1.0, 'Test Metrics')"
      ]
     },
     "execution_count": 45,
     "metadata": {},
     "output_type": "execute_result"
    },
    {
     "data": {
      "image/png": "[encoded data removed]",
      "text/plain": [
       "<Figure size 720x432 with 1 Axes>"
      ]
     },
     "metadata": {},
     "output_type": "display_data"
    }
   ],
   "source": [
    "plt.figure(figsize=(10,6))\n",
    "feat_importances = pd.Series(test_metrics, index = test_metrics.keys())\n",
    "feat_importances.nlargest(10).plot(kind='bar',color='dodgerblue');\n",
    "plt.title('Test Metrics',size=17)"
   ]
  },
  {
   "cell_type": "code",
   "execution_count": 53,
   "id": "0b27514b",
   "metadata": {},
   "outputs": [],
   "source": [
    "def save_model(model, mse_score) -> None:\n",
    "    try:\n",
    "        file_name = '../models/' + generate_model_name(mse_score=mse_score) +'.pkl'\n",
    "        with open(file_name, 'wb') as handle:\n",
    "            dump(model, handle)\n",
    "    except Exception as e:\n",
    "        print('Error while producing model')"
   ]
  },
  {
   "cell_type": "code",
   "execution_count": 54,
   "id": "40dad565",
   "metadata": {},
   "outputs": [],
   "source": [
    "save_model(best_model, test_metrics['RMSE Score'])"
   ]
  },
  {
   "cell_type": "markdown",
   "id": "80c2b177",
   "metadata": {},
   "source": [
    ">`Model Saved.`"
   ]
  },
  {
   "cell_type": "code",
   "execution_count": 56,
   "id": "d2138d1c",
   "metadata": {},
   "outputs": [
    {
     "data": {
      "text/plain": [
       "{'memory': None,\n",
       " 'steps': [('random_forest',\n",
       "   RandomForestRegressor(max_depth=10, random_state=2))],\n",
       " 'verbose': False,\n",
       " 'random_forest': RandomForestRegressor(max_depth=10, random_state=2),\n",
       " 'random_forest__bootstrap': True,\n",
       " 'random_forest__ccp_alpha': 0.0,\n",
       " 'random_forest__criterion': 'mse',\n",
       " 'random_forest__max_depth': 10,\n",
       " 'random_forest__max_features': 'auto',\n",
       " 'random_forest__max_leaf_nodes': None,\n",
       " 'random_forest__max_samples': None,\n",
       " 'random_forest__min_impurity_decrease': 0.0,\n",
       " 'random_forest__min_impurity_split': None,\n",
       " 'random_forest__min_samples_leaf': 1,\n",
       " 'random_forest__min_samples_split': 2,\n",
       " 'random_forest__min_weight_fraction_leaf': 0.0,\n",
       " 'random_forest__n_estimators': 100,\n",
       " 'random_forest__n_jobs': None,\n",
       " 'random_forest__oob_score': False,\n",
       " 'random_forest__random_state': 2,\n",
       " 'random_forest__verbose': 0,\n",
       " 'random_forest__warm_start': False}"
      ]
     },
     "execution_count": 56,
     "metadata": {},
     "output_type": "execute_result"
    }
   ],
   "source": [
    "best_model.get_params()"
   ]
  },
  {
   "cell_type": "code",
   "execution_count": null,
   "id": "f4be6341",
   "metadata": {},
   "outputs": [],
   "source": []
  },
  {
   "cell_type": "code",
   "execution_count": null,
   "id": "9a766439",
   "metadata": {},
   "outputs": [],
   "source": []
  },
  {
   "cell_type": "markdown",
   "id": "24107e6c",
   "metadata": {},
   "source": [
    "***\n",
    "***"
   ]
  }
 ],
 "metadata": {
  "kernelspec": {
   "display_name": "Python 3",
   "language": "python",
   "name": "python3"
  },
  "language_info": {
   "codemirror_mode": {
    "name": "ipython",
    "version": 3
   },
   "file_extension": ".py",
   "mimetype": "text/x-python",
   "name": "python",
   "nbconvert_exporter": "python",
   "pygments_lexer": "ipython3",
   "version": "3.8.8"
  }
 },
 "nbformat": 4,
 "nbformat_minor": 5
}

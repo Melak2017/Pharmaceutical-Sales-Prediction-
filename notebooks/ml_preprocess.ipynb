{
 "cells": [
  {
   "cell_type": "markdown",
   "id": "fbc3b855",
   "metadata": {},
   "source": [
    "***\n",
    "# Pre Process \n",
    "***"
   ]
  },
  {
   "cell_type": "code",
   "execution_count": 1,
   "id": "dce2b525",
   "metadata": {},
   "outputs": [],
   "source": [
    "# Ignore Warnings\n",
    "import warnings\n",
    "warnings.filterwarnings(\"ignore\")\n",
    "\n",
    "#for easy access to path\n",
    "import sys\n",
    "import os\n",
    "\n",
    "#importing packages for data manuplation and visualization\n",
    "import numpy as np\n",
    "import pandas as pd\n",
    "import math\n"
   ]
  },
  {
   "cell_type": "code",
   "execution_count": 2,
   "id": "f27b2d41",
   "metadata": {},
   "outputs": [],
   "source": [
    "#Acessing scripts and data path\n",
    "sys.path.append(os.path.abspath(os.path.join('data')))\n",
    "sys.path.insert(0,'../scripts/')"
   ]
  },
  {
   "cell_type": "code",
   "execution_count": 3,
   "id": "e581a206",
   "metadata": {},
   "outputs": [],
   "source": [
    "#import local libraries\n",
    "from clean_train_test_df import CleanStoreDf\n",
    "from data_preview import DataPreview\n",
    "from data_loader import load_df_from_csv\n",
    "from data_manipulation import DataManipulator\n",
    "from plots import *\n",
    "from result import ResultPicker\n",
    "from sklearn import preprocessing"
   ]
  },
  {
   "cell_type": "code",
   "execution_count": 4,
   "id": "a42cc23d",
   "metadata": {},
   "outputs": [],
   "source": [
    "#reading our data\n",
    "pd.set_option('max_column', None)\n",
    "pd.set_option('max_rows', None)\n",
    "\n",
    "store_df=pd.read_csv('../data/store.csv')\n",
    "train_df=pd.read_csv('../data/train.csv')\n",
    "test_df=pd.read_csv('../data/test.csv')\n"
   ]
  },
  {
   "cell_type": "code",
   "execution_count": 5,
   "id": "ef6655a8",
   "metadata": {},
   "outputs": [],
   "source": [
    "#creating an object\n",
    "store_data=DataPreview(store_df)\n",
    "train_data=DataPreview(train_df)\n",
    "test_data=DataPreview(test_df)\n",
    "\n",
    "\n",
    "results = ResultPicker()"
   ]
  },
  {
   "cell_type": "code",
   "execution_count": 6,
   "id": "6489d43c",
   "metadata": {},
   "outputs": [
    {
     "data": {
      "text/plain": [
       "Store             int64\n",
       "DayOfWeek         int64\n",
       "Date             object\n",
       "Sales             int64\n",
       "Customers         int64\n",
       "Open              int64\n",
       "Promo             int64\n",
       "StateHoliday     object\n",
       "SchoolHoliday     int64\n",
       "dtype: object"
      ]
     },
     "execution_count": 6,
     "metadata": {},
     "output_type": "execute_result"
    }
   ],
   "source": [
    "train_data_info = DataPreview(train_df)\n",
    "train_data_info.show_datatypes()\n",
    "#train_data_info.get_col_unique_value_count('Store')"
   ]
  },
  {
   "cell_type": "code",
   "execution_count": 7,
   "id": "281166ec",
   "metadata": {},
   "outputs": [
    {
     "data": {
      "text/plain": [
       "Store                          int64\n",
       "StoreType                     object\n",
       "Assortment                    object\n",
       "CompetitionDistance          float64\n",
       "CompetitionOpenSinceMonth    float64\n",
       "CompetitionOpenSinceYear     float64\n",
       "Promo2                         int64\n",
       "Promo2SinceWeek              float64\n",
       "Promo2SinceYear              float64\n",
       "PromoInterval                 object\n",
       "dtype: object"
      ]
     },
     "execution_count": 7,
     "metadata": {},
     "output_type": "execute_result"
    }
   ],
   "source": [
    "store_data_info = DataPreview(store_df)\n",
    "store_data_info.show_datatypes()"
   ]
  },
  {
   "cell_type": "markdown",
   "id": "548c8108",
   "metadata": {},
   "source": [
    "## <font color='darkolivegreen'>Missing Value</font>"
   ]
  },
  {
   "cell_type": "markdown",
   "id": "c7fa5bed",
   "metadata": {},
   "source": [
    "#### STORE DATASET"
   ]
  },
  {
   "cell_type": "code",
   "execution_count": 8,
   "id": "9b0861af",
   "metadata": {},
   "outputs": [
    {
     "name": "stdout",
     "output_type": "stream",
     "text": [
      "The dataset contains 21.01 % missing values.\n"
     ]
    },
    {
     "data": {
      "text/html": [
       "<div>\n",
       "<style scoped>\n",
       "    .dataframe tbody tr th:only-of-type {\n",
       "        vertical-align: middle;\n",
       "    }\n",
       "\n",
       "    .dataframe tbody tr th {\n",
       "        vertical-align: top;\n",
       "    }\n",
       "\n",
       "    .dataframe thead th {\n",
       "        text-align: right;\n",
       "    }\n",
       "</style>\n",
       "<table border=\"1\" class=\"dataframe\">\n",
       "  <thead>\n",
       "    <tr style=\"text-align: right;\">\n",
       "      <th></th>\n",
       "      <th>total_missing_values</th>\n",
       "      <th>missing_percentage</th>\n",
       "    </tr>\n",
       "  </thead>\n",
       "  <tbody>\n",
       "    <tr>\n",
       "      <th>Promo2SinceWeek</th>\n",
       "      <td>544</td>\n",
       "      <td>48.79 %</td>\n",
       "    </tr>\n",
       "    <tr>\n",
       "      <th>Promo2SinceYear</th>\n",
       "      <td>544</td>\n",
       "      <td>48.79 %</td>\n",
       "    </tr>\n",
       "    <tr>\n",
       "      <th>PromoInterval</th>\n",
       "      <td>544</td>\n",
       "      <td>48.79 %</td>\n",
       "    </tr>\n",
       "    <tr>\n",
       "      <th>CompetitionOpenSinceMonth</th>\n",
       "      <td>354</td>\n",
       "      <td>31.75 %</td>\n",
       "    </tr>\n",
       "    <tr>\n",
       "      <th>CompetitionOpenSinceYear</th>\n",
       "      <td>354</td>\n",
       "      <td>31.75 %</td>\n",
       "    </tr>\n",
       "    <tr>\n",
       "      <th>CompetitionDistance</th>\n",
       "      <td>3</td>\n",
       "      <td>0.27 %</td>\n",
       "    </tr>\n",
       "    <tr>\n",
       "      <th>Store</th>\n",
       "      <td>0</td>\n",
       "      <td>0.0 %</td>\n",
       "    </tr>\n",
       "    <tr>\n",
       "      <th>StoreType</th>\n",
       "      <td>0</td>\n",
       "      <td>0.0 %</td>\n",
       "    </tr>\n",
       "    <tr>\n",
       "      <th>Assortment</th>\n",
       "      <td>0</td>\n",
       "      <td>0.0 %</td>\n",
       "    </tr>\n",
       "    <tr>\n",
       "      <th>Promo2</th>\n",
       "      <td>0</td>\n",
       "      <td>0.0 %</td>\n",
       "    </tr>\n",
       "  </tbody>\n",
       "</table>\n",
       "</div>"
      ],
      "text/plain": [
       "                           total_missing_values missing_percentage\n",
       "Promo2SinceWeek                             544            48.79 %\n",
       "Promo2SinceYear                             544            48.79 %\n",
       "PromoInterval                               544            48.79 %\n",
       "CompetitionOpenSinceMonth                   354            31.75 %\n",
       "CompetitionOpenSinceYear                    354            31.75 %\n",
       "CompetitionDistance                           3             0.27 %\n",
       "Store                                         0              0.0 %\n",
       "StoreType                                     0              0.0 %\n",
       "Assortment                                    0              0.0 %\n",
       "Promo2                                        0              0.0 %"
      ]
     },
     "execution_count": 8,
     "metadata": {},
     "output_type": "execute_result"
    }
   ],
   "source": [
    "missing = store_data.percent_missing(store_df)\n",
    "results.add_data('missing_data',missing)\n",
    "missing\n",
    "\n",
    "#get the missing percenatage in each columns\n",
    "store_data.missing_values_table()"
   ]
  },
  {
   "cell_type": "markdown",
   "id": "a8d1746c",
   "metadata": {},
   "source": [
    "#### TEST DATASET"
   ]
  },
  {
   "cell_type": "code",
   "execution_count": 12,
   "id": "c96ea05f",
   "metadata": {},
   "outputs": [
    {
     "name": "stdout",
     "output_type": "stream",
     "text": [
      "The dataset contains 0.0 % missing values.\n"
     ]
    },
    {
     "data": {
      "text/html": [
       "<div>\n",
       "<style scoped>\n",
       "    .dataframe tbody tr th:only-of-type {\n",
       "        vertical-align: middle;\n",
       "    }\n",
       "\n",
       "    .dataframe tbody tr th {\n",
       "        vertical-align: top;\n",
       "    }\n",
       "\n",
       "    .dataframe thead th {\n",
       "        text-align: right;\n",
       "    }\n",
       "</style>\n",
       "<table border=\"1\" class=\"dataframe\">\n",
       "  <thead>\n",
       "    <tr style=\"text-align: right;\">\n",
       "      <th></th>\n",
       "      <th>total_missing_values</th>\n",
       "      <th>missing_percentage</th>\n",
       "    </tr>\n",
       "  </thead>\n",
       "  <tbody>\n",
       "    <tr>\n",
       "      <th>Open</th>\n",
       "      <td>11</td>\n",
       "      <td>0.03 %</td>\n",
       "    </tr>\n",
       "    <tr>\n",
       "      <th>Id</th>\n",
       "      <td>0</td>\n",
       "      <td>0.0 %</td>\n",
       "    </tr>\n",
       "    <tr>\n",
       "      <th>Store</th>\n",
       "      <td>0</td>\n",
       "      <td>0.0 %</td>\n",
       "    </tr>\n",
       "    <tr>\n",
       "      <th>DayOfWeek</th>\n",
       "      <td>0</td>\n",
       "      <td>0.0 %</td>\n",
       "    </tr>\n",
       "    <tr>\n",
       "      <th>Date</th>\n",
       "      <td>0</td>\n",
       "      <td>0.0 %</td>\n",
       "    </tr>\n",
       "    <tr>\n",
       "      <th>Promo</th>\n",
       "      <td>0</td>\n",
       "      <td>0.0 %</td>\n",
       "    </tr>\n",
       "    <tr>\n",
       "      <th>StateHoliday</th>\n",
       "      <td>0</td>\n",
       "      <td>0.0 %</td>\n",
       "    </tr>\n",
       "    <tr>\n",
       "      <th>SchoolHoliday</th>\n",
       "      <td>0</td>\n",
       "      <td>0.0 %</td>\n",
       "    </tr>\n",
       "  </tbody>\n",
       "</table>\n",
       "</div>"
      ],
      "text/plain": [
       "               total_missing_values missing_percentage\n",
       "Open                             11             0.03 %\n",
       "Id                                0              0.0 %\n",
       "Store                             0              0.0 %\n",
       "DayOfWeek                         0              0.0 %\n",
       "Date                              0              0.0 %\n",
       "Promo                             0              0.0 %\n",
       "StateHoliday                      0              0.0 %\n",
       "SchoolHoliday                     0              0.0 %"
      ]
     },
     "execution_count": 12,
     "metadata": {},
     "output_type": "execute_result"
    }
   ],
   "source": [
    "missing_test = test_data.percent_missing(test_df)\n",
    "results.add_data('missing_data',missing_test)\n",
    "missing\n",
    "\n",
    "#get the missing percenatage in each columns\n",
    "test_data.missing_values_table()"
   ]
  },
  {
   "cell_type": "markdown",
   "id": "df7dce41",
   "metadata": {},
   "source": [
    "#### TRAIN DATASET"
   ]
  },
  {
   "cell_type": "code",
   "execution_count": 13,
   "id": "41f180cd",
   "metadata": {},
   "outputs": [
    {
     "name": "stdout",
     "output_type": "stream",
     "text": [
      "The dataset contains 0.0 % missing values.\n"
     ]
    },
    {
     "data": {
      "text/html": [
       "<div>\n",
       "<style scoped>\n",
       "    .dataframe tbody tr th:only-of-type {\n",
       "        vertical-align: middle;\n",
       "    }\n",
       "\n",
       "    .dataframe tbody tr th {\n",
       "        vertical-align: top;\n",
       "    }\n",
       "\n",
       "    .dataframe thead th {\n",
       "        text-align: right;\n",
       "    }\n",
       "</style>\n",
       "<table border=\"1\" class=\"dataframe\">\n",
       "  <thead>\n",
       "    <tr style=\"text-align: right;\">\n",
       "      <th></th>\n",
       "      <th>total_missing_values</th>\n",
       "      <th>missing_percentage</th>\n",
       "    </tr>\n",
       "  </thead>\n",
       "  <tbody>\n",
       "    <tr>\n",
       "      <th>Store</th>\n",
       "      <td>0</td>\n",
       "      <td>0.0 %</td>\n",
       "    </tr>\n",
       "    <tr>\n",
       "      <th>DayOfWeek</th>\n",
       "      <td>0</td>\n",
       "      <td>0.0 %</td>\n",
       "    </tr>\n",
       "    <tr>\n",
       "      <th>Date</th>\n",
       "      <td>0</td>\n",
       "      <td>0.0 %</td>\n",
       "    </tr>\n",
       "    <tr>\n",
       "      <th>Sales</th>\n",
       "      <td>0</td>\n",
       "      <td>0.0 %</td>\n",
       "    </tr>\n",
       "    <tr>\n",
       "      <th>Customers</th>\n",
       "      <td>0</td>\n",
       "      <td>0.0 %</td>\n",
       "    </tr>\n",
       "    <tr>\n",
       "      <th>Open</th>\n",
       "      <td>0</td>\n",
       "      <td>0.0 %</td>\n",
       "    </tr>\n",
       "    <tr>\n",
       "      <th>Promo</th>\n",
       "      <td>0</td>\n",
       "      <td>0.0 %</td>\n",
       "    </tr>\n",
       "    <tr>\n",
       "      <th>StateHoliday</th>\n",
       "      <td>0</td>\n",
       "      <td>0.0 %</td>\n",
       "    </tr>\n",
       "    <tr>\n",
       "      <th>SchoolHoliday</th>\n",
       "      <td>0</td>\n",
       "      <td>0.0 %</td>\n",
       "    </tr>\n",
       "  </tbody>\n",
       "</table>\n",
       "</div>"
      ],
      "text/plain": [
       "               total_missing_values missing_percentage\n",
       "Store                             0              0.0 %\n",
       "DayOfWeek                         0              0.0 %\n",
       "Date                              0              0.0 %\n",
       "Sales                             0              0.0 %\n",
       "Customers                         0              0.0 %\n",
       "Open                              0              0.0 %\n",
       "Promo                             0              0.0 %\n",
       "StateHoliday                      0              0.0 %\n",
       "SchoolHoliday                     0              0.0 %"
      ]
     },
     "execution_count": 13,
     "metadata": {},
     "output_type": "execute_result"
    }
   ],
   "source": [
    "missing_train = train_data.percent_missing(train_df)\n",
    "results.add_data('missing_data',missing_train)\n",
    "missing\n",
    "\n",
    "#get the missing percenatage in each columns\n",
    "train_data.missing_values_table()"
   ]
  },
  {
   "cell_type": "code",
   "execution_count": 14,
   "id": "405fff37",
   "metadata": {},
   "outputs": [],
   "source": [
    "from clean_train_test_df import CleanStoreDf"
   ]
  },
  {
   "cell_type": "code",
   "execution_count": 15,
   "id": "f65f3f15",
   "metadata": {},
   "outputs": [],
   "source": [
    "# object creation \n",
    "train_data_cleaner = CleanStoreDf(train_df)\n",
    "test_data_cleaner = CleanStoreDf(test_df)\n",
    "store_data_cleaner=CleanStoreDf(store_df)"
   ]
  },
  {
   "cell_type": "code",
   "execution_count": 16,
   "id": "b92d2f42",
   "metadata": {},
   "outputs": [],
   "source": [
    "#changing the datatype of date column\n",
    "train_data_cleaner.change_column_to_date_type('Date')\n",
    "test_data_cleaner.change_column_to_date_type('Date')"
   ]
  },
  {
   "cell_type": "code",
   "execution_count": 17,
   "id": "0051001b",
   "metadata": {},
   "outputs": [
    {
     "data": {
      "text/plain": [
       "Store                     int64\n",
       "DayOfWeek                 int64\n",
       "Date             datetime64[ns]\n",
       "Sales                     int64\n",
       "Customers                 int64\n",
       "Open                      int64\n",
       "Promo                     int64\n",
       "StateHoliday             object\n",
       "SchoolHoliday             int64\n",
       "dtype: object"
      ]
     },
     "execution_count": 17,
     "metadata": {},
     "output_type": "execute_result"
    }
   ],
   "source": [
    "train_data_cleaner.df.dtypes"
   ]
  },
  {
   "cell_type": "code",
   "execution_count": 18,
   "id": "f2a5df70",
   "metadata": {},
   "outputs": [
    {
     "data": {
      "text/plain": [
       "Id                        int64\n",
       "Store                     int64\n",
       "DayOfWeek                 int64\n",
       "Date             datetime64[ns]\n",
       "Open                    float64\n",
       "Promo                     int64\n",
       "StateHoliday             object\n",
       "SchoolHoliday             int64\n",
       "dtype: object"
      ]
     },
     "execution_count": 18,
     "metadata": {},
     "output_type": "execute_result"
    }
   ],
   "source": [
    "test_data_cleaner.df.dtypes"
   ]
  },
  {
   "cell_type": "markdown",
   "id": "a4ba5698",
   "metadata": {},
   "source": [
    ">`The Date column on both Train and Test is changed to datetime.`"
   ]
  },
  {
   "cell_type": "code",
   "execution_count": 19,
   "id": "5b7a7632",
   "metadata": {},
   "outputs": [],
   "source": [
    "# Separating date for train and test\n",
    "train_data_cleaner.separate_date_column(date_column='Date')\n",
    "test_data_cleaner.separate_date_column(date_column='Date')"
   ]
  },
  {
   "cell_type": "code",
   "execution_count": 20,
   "id": "41659913",
   "metadata": {},
   "outputs": [
    {
     "data": {
      "text/plain": [
       "Store             int64\n",
       "DayOfWeek         int64\n",
       "Year              int64\n",
       "Month             int64\n",
       "Day               int64\n",
       "Sales             int64\n",
       "Customers         int64\n",
       "Open              int64\n",
       "Promo             int64\n",
       "StateHoliday     object\n",
       "SchoolHoliday     int64\n",
       "dtype: object"
      ]
     },
     "execution_count": 20,
     "metadata": {},
     "output_type": "execute_result"
    }
   ],
   "source": [
    "train_data_cleaner.df.dtypes"
   ]
  },
  {
   "cell_type": "code",
   "execution_count": 21,
   "id": "e6ea963e",
   "metadata": {},
   "outputs": [
    {
     "data": {
      "text/plain": [
       "Store                          int64\n",
       "StoreType                     object\n",
       "Assortment                    object\n",
       "CompetitionDistance          float64\n",
       "CompetitionOpenSinceMonth    float64\n",
       "CompetitionOpenSinceYear     float64\n",
       "Promo2                         int64\n",
       "Promo2SinceWeek              float64\n",
       "Promo2SinceYear              float64\n",
       "PromoInterval                 object\n",
       "dtype: object"
      ]
     },
     "execution_count": 21,
     "metadata": {},
     "output_type": "execute_result"
    }
   ],
   "source": [
    "store_data_cleaner.df.dtypes"
   ]
  },
  {
   "cell_type": "code",
   "execution_count": 22,
   "id": "b64e91a2",
   "metadata": {},
   "outputs": [
    {
     "data": {
      "text/plain": [
       "Store                     int64\n",
       "DayOfWeek                 int64\n",
       "Date             datetime64[ns]\n",
       "Year                      int64\n",
       "Month                     int64\n",
       "Day                       int64\n",
       "Sales                     int64\n",
       "Customers                 int64\n",
       "Open                      int64\n",
       "Promo                     int64\n",
       "StateHoliday             object\n",
       "SchoolHoliday             int64\n",
       "dtype: object"
      ]
     },
     "execution_count": 22,
     "metadata": {},
     "output_type": "execute_result"
    }
   ],
   "source": [
    "train_df.dtypes"
   ]
  },
  {
   "cell_type": "code",
   "execution_count": 23,
   "id": "d2efa18e",
   "metadata": {},
   "outputs": [
    {
     "data": {
      "text/plain": [
       "Store                          int64\n",
       "StoreType                     object\n",
       "Assortment                    object\n",
       "CompetitionDistance          float64\n",
       "CompetitionOpenSinceMonth    float64\n",
       "CompetitionOpenSinceYear     float64\n",
       "Promo2                         int64\n",
       "Promo2SinceWeek              float64\n",
       "Promo2SinceYear              float64\n",
       "PromoInterval                 object\n",
       "dtype: object"
      ]
     },
     "execution_count": 23,
     "metadata": {},
     "output_type": "execute_result"
    }
   ],
   "source": [
    "store_df.dtypes"
   ]
  },
  {
   "cell_type": "markdown",
   "id": "b21d1b8e",
   "metadata": {},
   "source": [
    ">`Separation complete!`"
   ]
  },
  {
   "cell_type": "code",
   "execution_count": 24,
   "id": "e78ee702",
   "metadata": {},
   "outputs": [],
   "source": [
    "#merging store and train dataset \n",
    "merged_train_store_df = pd.merge(train_df, store_df, on=['Store'], how='inner')"
   ]
  },
  {
   "cell_type": "code",
   "execution_count": 25,
   "id": "018fcb41",
   "metadata": {},
   "outputs": [],
   "source": [
    "merged_df=DataPreview(merged_train_store_df)"
   ]
  },
  {
   "cell_type": "code",
   "execution_count": 26,
   "id": "ccd472fa",
   "metadata": {},
   "outputs": [
    {
     "data": {
      "text/plain": [
       "Store                                 int64\n",
       "DayOfWeek                             int64\n",
       "Date                         datetime64[ns]\n",
       "Year                                  int64\n",
       "Month                                 int64\n",
       "Day                                   int64\n",
       "Sales                                 int64\n",
       "Customers                             int64\n",
       "Open                                  int64\n",
       "Promo                                 int64\n",
       "StateHoliday                         object\n",
       "SchoolHoliday                         int64\n",
       "StoreType                            object\n",
       "Assortment                           object\n",
       "CompetitionDistance                 float64\n",
       "CompetitionOpenSinceMonth           float64\n",
       "CompetitionOpenSinceYear            float64\n",
       "Promo2                                int64\n",
       "Promo2SinceWeek                     float64\n",
       "Promo2SinceYear                     float64\n",
       "PromoInterval                        object\n",
       "dtype: object"
      ]
     },
     "execution_count": 26,
     "metadata": {},
     "output_type": "execute_result"
    }
   ],
   "source": [
    "merged_train_store_df.dtypes"
   ]
  },
  {
   "cell_type": "code",
   "execution_count": 27,
   "id": "f13c2e53",
   "metadata": {},
   "outputs": [
    {
     "name": "stdout",
     "output_type": "stream",
     "text": [
      "<class 'pandas.core.frame.DataFrame'>\n",
      "Int64Index: 1017209 entries, 0 to 1017208\n",
      "Data columns (total 21 columns):\n",
      " #   Column                     Non-Null Count    Dtype         \n",
      "---  ------                     --------------    -----         \n",
      " 0   Store                      1017209 non-null  int64         \n",
      " 1   DayOfWeek                  1017209 non-null  int64         \n",
      " 2   Date                       1017209 non-null  datetime64[ns]\n",
      " 3   Year                       1017209 non-null  int64         \n",
      " 4   Month                      1017209 non-null  int64         \n",
      " 5   Day                        1017209 non-null  int64         \n",
      " 6   Sales                      1017209 non-null  int64         \n",
      " 7   Customers                  1017209 non-null  int64         \n",
      " 8   Open                       1017209 non-null  int64         \n",
      " 9   Promo                      1017209 non-null  int64         \n",
      " 10  StateHoliday               1017209 non-null  object        \n",
      " 11  SchoolHoliday              1017209 non-null  int64         \n",
      " 12  StoreType                  1017209 non-null  object        \n",
      " 13  Assortment                 1017209 non-null  object        \n",
      " 14  CompetitionDistance        1014567 non-null  float64       \n",
      " 15  CompetitionOpenSinceMonth  693861 non-null   float64       \n",
      " 16  CompetitionOpenSinceYear   693861 non-null   float64       \n",
      " 17  Promo2                     1017209 non-null  int64         \n",
      " 18  Promo2SinceWeek            509178 non-null   float64       \n",
      " 19  Promo2SinceYear            509178 non-null   float64       \n",
      " 20  PromoInterval              509178 non-null   object        \n",
      "dtypes: datetime64[ns](1), float64(5), int64(11), object(4)\n",
      "memory usage: 170.7+ MB\n"
     ]
    }
   ],
   "source": [
    "merged_train_store_df.info()"
   ]
  },
  {
   "cell_type": "markdown",
   "id": "735ff8b5",
   "metadata": {},
   "source": [
    ">`Merging Complete!`"
   ]
  },
  {
   "cell_type": "markdown",
   "id": "7f0c4e75",
   "metadata": {},
   "source": [
    "### <font color='darkolivegreen'>Merged Store Train data Missing Value</font>"
   ]
  },
  {
   "cell_type": "code",
   "execution_count": 28,
   "id": "2b7715c9",
   "metadata": {},
   "outputs": [
    {
     "name": "stdout",
     "output_type": "stream",
     "text": [
      "The dataset contains 10.17 % missing values.\n"
     ]
    },
    {
     "data": {
      "text/html": [
       "<div>\n",
       "<style scoped>\n",
       "    .dataframe tbody tr th:only-of-type {\n",
       "        vertical-align: middle;\n",
       "    }\n",
       "\n",
       "    .dataframe tbody tr th {\n",
       "        vertical-align: top;\n",
       "    }\n",
       "\n",
       "    .dataframe thead th {\n",
       "        text-align: right;\n",
       "    }\n",
       "</style>\n",
       "<table border=\"1\" class=\"dataframe\">\n",
       "  <thead>\n",
       "    <tr style=\"text-align: right;\">\n",
       "      <th></th>\n",
       "      <th>total_missing_values</th>\n",
       "      <th>missing_percentage</th>\n",
       "    </tr>\n",
       "  </thead>\n",
       "  <tbody>\n",
       "    <tr>\n",
       "      <th>PromoInterval</th>\n",
       "      <td>508031</td>\n",
       "      <td>49.94 %</td>\n",
       "    </tr>\n",
       "    <tr>\n",
       "      <th>Promo2SinceYear</th>\n",
       "      <td>508031</td>\n",
       "      <td>49.94 %</td>\n",
       "    </tr>\n",
       "    <tr>\n",
       "      <th>Promo2SinceWeek</th>\n",
       "      <td>508031</td>\n",
       "      <td>49.94 %</td>\n",
       "    </tr>\n",
       "    <tr>\n",
       "      <th>CompetitionOpenSinceYear</th>\n",
       "      <td>323348</td>\n",
       "      <td>31.79 %</td>\n",
       "    </tr>\n",
       "    <tr>\n",
       "      <th>CompetitionOpenSinceMonth</th>\n",
       "      <td>323348</td>\n",
       "      <td>31.79 %</td>\n",
       "    </tr>\n",
       "    <tr>\n",
       "      <th>CompetitionDistance</th>\n",
       "      <td>2642</td>\n",
       "      <td>0.26 %</td>\n",
       "    </tr>\n",
       "    <tr>\n",
       "      <th>SchoolHoliday</th>\n",
       "      <td>0</td>\n",
       "      <td>0.0 %</td>\n",
       "    </tr>\n",
       "    <tr>\n",
       "      <th>Promo2</th>\n",
       "      <td>0</td>\n",
       "      <td>0.0 %</td>\n",
       "    </tr>\n",
       "    <tr>\n",
       "      <th>Assortment</th>\n",
       "      <td>0</td>\n",
       "      <td>0.0 %</td>\n",
       "    </tr>\n",
       "    <tr>\n",
       "      <th>StoreType</th>\n",
       "      <td>0</td>\n",
       "      <td>0.0 %</td>\n",
       "    </tr>\n",
       "    <tr>\n",
       "      <th>Store</th>\n",
       "      <td>0</td>\n",
       "      <td>0.0 %</td>\n",
       "    </tr>\n",
       "    <tr>\n",
       "      <th>DayOfWeek</th>\n",
       "      <td>0</td>\n",
       "      <td>0.0 %</td>\n",
       "    </tr>\n",
       "    <tr>\n",
       "      <th>Promo</th>\n",
       "      <td>0</td>\n",
       "      <td>0.0 %</td>\n",
       "    </tr>\n",
       "    <tr>\n",
       "      <th>Open</th>\n",
       "      <td>0</td>\n",
       "      <td>0.0 %</td>\n",
       "    </tr>\n",
       "    <tr>\n",
       "      <th>Customers</th>\n",
       "      <td>0</td>\n",
       "      <td>0.0 %</td>\n",
       "    </tr>\n",
       "    <tr>\n",
       "      <th>Sales</th>\n",
       "      <td>0</td>\n",
       "      <td>0.0 %</td>\n",
       "    </tr>\n",
       "    <tr>\n",
       "      <th>Day</th>\n",
       "      <td>0</td>\n",
       "      <td>0.0 %</td>\n",
       "    </tr>\n",
       "    <tr>\n",
       "      <th>Month</th>\n",
       "      <td>0</td>\n",
       "      <td>0.0 %</td>\n",
       "    </tr>\n",
       "    <tr>\n",
       "      <th>Year</th>\n",
       "      <td>0</td>\n",
       "      <td>0.0 %</td>\n",
       "    </tr>\n",
       "    <tr>\n",
       "      <th>Date</th>\n",
       "      <td>0</td>\n",
       "      <td>0.0 %</td>\n",
       "    </tr>\n",
       "    <tr>\n",
       "      <th>StateHoliday</th>\n",
       "      <td>0</td>\n",
       "      <td>0.0 %</td>\n",
       "    </tr>\n",
       "  </tbody>\n",
       "</table>\n",
       "</div>"
      ],
      "text/plain": [
       "                           total_missing_values missing_percentage\n",
       "PromoInterval                            508031            49.94 %\n",
       "Promo2SinceYear                          508031            49.94 %\n",
       "Promo2SinceWeek                          508031            49.94 %\n",
       "CompetitionOpenSinceYear                 323348            31.79 %\n",
       "CompetitionOpenSinceMonth                323348            31.79 %\n",
       "CompetitionDistance                        2642             0.26 %\n",
       "SchoolHoliday                                 0              0.0 %\n",
       "Promo2                                        0              0.0 %\n",
       "Assortment                                    0              0.0 %\n",
       "StoreType                                     0              0.0 %\n",
       "Store                                         0              0.0 %\n",
       "DayOfWeek                                     0              0.0 %\n",
       "Promo                                         0              0.0 %\n",
       "Open                                          0              0.0 %\n",
       "Customers                                     0              0.0 %\n",
       "Sales                                         0              0.0 %\n",
       "Day                                           0              0.0 %\n",
       "Month                                         0              0.0 %\n",
       "Year                                          0              0.0 %\n",
       "Date                                          0              0.0 %\n",
       "StateHoliday                                  0              0.0 %"
      ]
     },
     "execution_count": 28,
     "metadata": {},
     "output_type": "execute_result"
    }
   ],
   "source": [
    "missing = merged_df.percent_missing(merged_train_store_df)\n",
    "results.add_data('missing_data',missing)\n",
    "missing\n",
    "merged_df.missing_values_table()"
   ]
  },
  {
   "cell_type": "markdown",
   "id": "340c7596",
   "metadata": {},
   "source": [
    ">`Our merged data has 10% missing values`"
   ]
  },
  {
   "cell_type": "markdown",
   "id": "5603d5cd",
   "metadata": {},
   "source": [
    "###### <font color='darkolivegreen'>Fill Missing Value</font>"
   ]
  },
  {
   "cell_type": "code",
   "execution_count": 29,
   "id": "37563955",
   "metadata": {},
   "outputs": [],
   "source": [
    "# Filling Missing Values\n",
    "try:\n",
    "    merged_train_store_df['CompetitionDistance'].fillna(merged_train_store_df['CompetitionDistance'].median(), inplace = True)\n",
    "    merged_train_store_df['CompetitionOpenSinceMonth'].fillna(merged_train_store_df['CompetitionOpenSinceMonth'].mode().iloc[0], inplace = True)\n",
    "    merged_train_store_df['CompetitionOpenSinceYear'].fillna(merged_train_store_df['CompetitionOpenSinceYear'].mode().iloc[0], inplace = True)\n",
    "# \n",
    "    merged_train_store_df['Promo2SinceWeek'].fillna(merged_train_store_df['Promo2SinceWeek'].mode().iloc[0], inplace=True)\n",
    "    merged_train_store_df['Promo2SinceYear'].fillna(merged_train_store_df['Promo2SinceYear'].mode().iloc[0], inplace = True)\n",
    "    merged_train_store_df['PromoInterval'].fillna(merged_train_store_df['PromoInterval'].mode().iloc[0], inplace=True)\n",
    "#     \n",
    "except Exception as e:\n",
    "    print(\"Failed to fill missing vlaues\")"
   ]
  },
  {
   "cell_type": "code",
   "execution_count": 30,
   "id": "2d619deb",
   "metadata": {},
   "outputs": [
    {
     "name": "stdout",
     "output_type": "stream",
     "text": [
      "The dataset contains 0.0 % missing values.\n"
     ]
    }
   ],
   "source": [
    "missing = merged_df.percent_missing(merged_train_store_df)\n",
    "results.add_data('missing_data',missing)"
   ]
  },
  {
   "cell_type": "code",
   "execution_count": 31,
   "id": "9ca527fd",
   "metadata": {},
   "outputs": [
    {
     "name": "stdout",
     "output_type": "stream",
     "text": [
      "The dataset contains 0.0 % missing values.\n"
     ]
    }
   ],
   "source": [
    "missing = merged_df.percent_missing(merged_train_store_df)"
   ]
  },
  {
   "cell_type": "markdown",
   "id": "c45cf04c",
   "metadata": {},
   "source": [
    ">`Missing value Filled!`"
   ]
  },
  {
   "cell_type": "markdown",
   "id": "74440ba3",
   "metadata": {},
   "source": [
    "### <font color='darkolivegreen'>Checking Outliers</font>"
   ]
  },
  {
   "cell_type": "code",
   "execution_count": 32,
   "id": "fba05e15",
   "metadata": {},
   "outputs": [
    {
     "data": {
      "text/plain": [
       "<AxesSubplot:xlabel='Sales'>"
      ]
     },
     "execution_count": 32,
     "metadata": {},
     "output_type": "execute_result"
    },
    {
     "data": {
      "image/png": "[encoded data removed]",
      "text/plain": [
       "<Figure size 432x288 with 1 Axes>"
      ]
     },
     "metadata": {},
     "output_type": "display_data"
    }
   ],
   "source": [
    "sns.set()\n",
    "sns.boxplot(data=merged_train_store_df,x='Sales')"
   ]
  },
  {
   "cell_type": "markdown",
   "id": "f53808ca",
   "metadata": {},
   "source": [
    ">`outliers for Sales.`"
   ]
  },
  {
   "cell_type": "code",
   "execution_count": 33,
   "id": "a35e6e3c",
   "metadata": {},
   "outputs": [
    {
     "data": {
      "text/plain": [
       "<AxesSubplot:xlabel='Store'>"
      ]
     },
     "execution_count": 33,
     "metadata": {},
     "output_type": "execute_result"
    },
    {
     "data": {
      "image/png": "[encoded data removed]",
      "text/plain": [
       "<Figure size 432x288 with 1 Axes>"
      ]
     },
     "metadata": {},
     "output_type": "display_data"
    }
   ],
   "source": [
    "sns.boxplot(data=merged_train_store_df,x='Store')"
   ]
  },
  {
   "cell_type": "markdown",
   "id": "c79c0424",
   "metadata": {},
   "source": [
    ">`outliers for Store.`"
   ]
  },
  {
   "cell_type": "code",
   "execution_count": 34,
   "id": "bba8a7ab",
   "metadata": {},
   "outputs": [
    {
     "data": {
      "text/plain": [
       "<AxesSubplot:xlabel='DayOfWeek', ylabel='Sales'>"
      ]
     },
     "execution_count": 34,
     "metadata": {},
     "output_type": "execute_result"
    },
    {
     "data": {
      "image/png": "[encoded data removed]",
      "text/plain": [
       "<Figure size 720x720 with 1 Axes>"
      ]
     },
     "metadata": {},
     "output_type": "display_data"
    }
   ],
   "source": [
    "plt.figure(figsize=(10,10))\n",
    "sns.set()\n",
    "sns.boxenplot(data=merged_train_store_df,scale=\"linear\",x=\"DayOfWeek\",y=\"Sales\",color=\"dodgerblue\")"
   ]
  },
  {
   "cell_type": "code",
   "execution_count": 35,
   "id": "8d695f61",
   "metadata": {},
   "outputs": [],
   "source": [
    "#for replacing outliers \n",
    "def replace_outlier_with_median(dataFrame: pd.DataFrame, feature: str) -> pd.DataFrame:\n",
    "\n",
    "        Q1 = dataFrame[feature].quantile(0.25)\n",
    "        Q3 = dataFrame[feature].quantile(0.75)\n",
    "        median = dataFrame[feature].quantile(0.50)\n",
    "\n",
    "        IQR = Q3 - Q1\n",
    "\n",
    "        upper_whisker = Q3 + (1.5 * IQR)\n",
    "        lower_whisker = Q1 - (1.5 * IQR)\n",
    "\n",
    "        dataFrame[feature] = np.where(\n",
    "            dataFrame[feature] > upper_whisker, median, dataFrame[feature])\n",
    "        dataFrame[feature] = np.where(\n",
    "            dataFrame[feature] < lower_whisker, median, dataFrame[feature])\n",
    "\n",
    "        return dataFrame"
   ]
  },
  {
   "cell_type": "code",
   "execution_count": null,
   "id": "09e0c58f",
   "metadata": {},
   "outputs": [],
   "source": [
    "#train_store_cleaner = DataCleaner(train_store)"
   ]
  },
  {
   "cell_type": "code",
   "execution_count": 36,
   "id": "04d7adbd",
   "metadata": {},
   "outputs": [
    {
     "data": {
      "text/html": [
       "<div>\n",
       "<style scoped>\n",
       "    .dataframe tbody tr th:only-of-type {\n",
       "        vertical-align: middle;\n",
       "    }\n",
       "\n",
       "    .dataframe tbody tr th {\n",
       "        vertical-align: top;\n",
       "    }\n",
       "\n",
       "    .dataframe thead th {\n",
       "        text-align: right;\n",
       "    }\n",
       "</style>\n",
       "<table border=\"1\" class=\"dataframe\">\n",
       "  <thead>\n",
       "    <tr style=\"text-align: right;\">\n",
       "      <th></th>\n",
       "      <th>Store</th>\n",
       "      <th>DayOfWeek</th>\n",
       "      <th>Date</th>\n",
       "      <th>Year</th>\n",
       "      <th>Month</th>\n",
       "      <th>Day</th>\n",
       "      <th>Sales</th>\n",
       "      <th>Customers</th>\n",
       "      <th>Open</th>\n",
       "      <th>Promo</th>\n",
       "      <th>StateHoliday</th>\n",
       "      <th>SchoolHoliday</th>\n",
       "      <th>StoreType</th>\n",
       "      <th>Assortment</th>\n",
       "      <th>CompetitionDistance</th>\n",
       "      <th>CompetitionOpenSinceMonth</th>\n",
       "      <th>CompetitionOpenSinceYear</th>\n",
       "      <th>Promo2</th>\n",
       "      <th>Promo2SinceWeek</th>\n",
       "      <th>Promo2SinceYear</th>\n",
       "      <th>PromoInterval</th>\n",
       "    </tr>\n",
       "  </thead>\n",
       "  <tbody>\n",
       "    <tr>\n",
       "      <th>0</th>\n",
       "      <td>1</td>\n",
       "      <td>5</td>\n",
       "      <td>2015-07-31</td>\n",
       "      <td>2015</td>\n",
       "      <td>7</td>\n",
       "      <td>31</td>\n",
       "      <td>5263.0</td>\n",
       "      <td>555.0</td>\n",
       "      <td>1</td>\n",
       "      <td>1</td>\n",
       "      <td>0</td>\n",
       "      <td>1</td>\n",
       "      <td>c</td>\n",
       "      <td>a</td>\n",
       "      <td>1270.0</td>\n",
       "      <td>9.0</td>\n",
       "      <td>2008.0</td>\n",
       "      <td>0</td>\n",
       "      <td>14.0</td>\n",
       "      <td>2011.0</td>\n",
       "      <td>Jan,Apr,Jul,Oct</td>\n",
       "    </tr>\n",
       "    <tr>\n",
       "      <th>1</th>\n",
       "      <td>1</td>\n",
       "      <td>4</td>\n",
       "      <td>2015-07-30</td>\n",
       "      <td>2015</td>\n",
       "      <td>7</td>\n",
       "      <td>30</td>\n",
       "      <td>5020.0</td>\n",
       "      <td>546.0</td>\n",
       "      <td>1</td>\n",
       "      <td>1</td>\n",
       "      <td>0</td>\n",
       "      <td>1</td>\n",
       "      <td>c</td>\n",
       "      <td>a</td>\n",
       "      <td>1270.0</td>\n",
       "      <td>9.0</td>\n",
       "      <td>2008.0</td>\n",
       "      <td>0</td>\n",
       "      <td>14.0</td>\n",
       "      <td>2011.0</td>\n",
       "      <td>Jan,Apr,Jul,Oct</td>\n",
       "    </tr>\n",
       "    <tr>\n",
       "      <th>2</th>\n",
       "      <td>1</td>\n",
       "      <td>3</td>\n",
       "      <td>2015-07-29</td>\n",
       "      <td>2015</td>\n",
       "      <td>7</td>\n",
       "      <td>29</td>\n",
       "      <td>4782.0</td>\n",
       "      <td>523.0</td>\n",
       "      <td>1</td>\n",
       "      <td>1</td>\n",
       "      <td>0</td>\n",
       "      <td>1</td>\n",
       "      <td>c</td>\n",
       "      <td>a</td>\n",
       "      <td>1270.0</td>\n",
       "      <td>9.0</td>\n",
       "      <td>2008.0</td>\n",
       "      <td>0</td>\n",
       "      <td>14.0</td>\n",
       "      <td>2011.0</td>\n",
       "      <td>Jan,Apr,Jul,Oct</td>\n",
       "    </tr>\n",
       "    <tr>\n",
       "      <th>3</th>\n",
       "      <td>1</td>\n",
       "      <td>2</td>\n",
       "      <td>2015-07-28</td>\n",
       "      <td>2015</td>\n",
       "      <td>7</td>\n",
       "      <td>28</td>\n",
       "      <td>5011.0</td>\n",
       "      <td>560.0</td>\n",
       "      <td>1</td>\n",
       "      <td>1</td>\n",
       "      <td>0</td>\n",
       "      <td>1</td>\n",
       "      <td>c</td>\n",
       "      <td>a</td>\n",
       "      <td>1270.0</td>\n",
       "      <td>9.0</td>\n",
       "      <td>2008.0</td>\n",
       "      <td>0</td>\n",
       "      <td>14.0</td>\n",
       "      <td>2011.0</td>\n",
       "      <td>Jan,Apr,Jul,Oct</td>\n",
       "    </tr>\n",
       "    <tr>\n",
       "      <th>4</th>\n",
       "      <td>1</td>\n",
       "      <td>1</td>\n",
       "      <td>2015-07-27</td>\n",
       "      <td>2015</td>\n",
       "      <td>7</td>\n",
       "      <td>27</td>\n",
       "      <td>6102.0</td>\n",
       "      <td>612.0</td>\n",
       "      <td>1</td>\n",
       "      <td>1</td>\n",
       "      <td>0</td>\n",
       "      <td>1</td>\n",
       "      <td>c</td>\n",
       "      <td>a</td>\n",
       "      <td>1270.0</td>\n",
       "      <td>9.0</td>\n",
       "      <td>2008.0</td>\n",
       "      <td>0</td>\n",
       "      <td>14.0</td>\n",
       "      <td>2011.0</td>\n",
       "      <td>Jan,Apr,Jul,Oct</td>\n",
       "    </tr>\n",
       "  </tbody>\n",
       "</table>\n",
       "</div>"
      ],
      "text/plain": [
       "   Store  DayOfWeek       Date  Year  Month  Day   Sales  Customers  Open  \\\n",
       "0      1          5 2015-07-31  2015      7   31  5263.0      555.0     1   \n",
       "1      1          4 2015-07-30  2015      7   30  5020.0      546.0     1   \n",
       "2      1          3 2015-07-29  2015      7   29  4782.0      523.0     1   \n",
       "3      1          2 2015-07-28  2015      7   28  5011.0      560.0     1   \n",
       "4      1          1 2015-07-27  2015      7   27  6102.0      612.0     1   \n",
       "\n",
       "   Promo StateHoliday  SchoolHoliday StoreType Assortment  \\\n",
       "0      1            0              1         c          a   \n",
       "1      1            0              1         c          a   \n",
       "2      1            0              1         c          a   \n",
       "3      1            0              1         c          a   \n",
       "4      1            0              1         c          a   \n",
       "\n",
       "   CompetitionDistance  CompetitionOpenSinceMonth  CompetitionOpenSinceYear  \\\n",
       "0               1270.0                        9.0                    2008.0   \n",
       "1               1270.0                        9.0                    2008.0   \n",
       "2               1270.0                        9.0                    2008.0   \n",
       "3               1270.0                        9.0                    2008.0   \n",
       "4               1270.0                        9.0                    2008.0   \n",
       "\n",
       "   Promo2  Promo2SinceWeek  Promo2SinceYear    PromoInterval  \n",
       "0       0             14.0           2011.0  Jan,Apr,Jul,Oct  \n",
       "1       0             14.0           2011.0  Jan,Apr,Jul,Oct  \n",
       "2       0             14.0           2011.0  Jan,Apr,Jul,Oct  \n",
       "3       0             14.0           2011.0  Jan,Apr,Jul,Oct  \n",
       "4       0             14.0           2011.0  Jan,Apr,Jul,Oct  "
      ]
     },
     "execution_count": 36,
     "metadata": {},
     "output_type": "execute_result"
    }
   ],
   "source": [
    "replace_outlier_with_median(merged_train_store_df, 'Customers')\n",
    "replace_outlier_with_median(merged_train_store_df, 'Sales')\n",
    "merged_train_store_df.head()"
   ]
  },
  {
   "cell_type": "markdown",
   "id": "9561d339",
   "metadata": {},
   "source": [
    "### <font color='darkolivegreen'>Feature extraction</font>"
   ]
  },
  {
   "cell_type": "code",
   "execution_count": null,
   "id": "179c8772",
   "metadata": {},
   "outputs": [],
   "source": [
    "manuplator= DataManipulator(merged_train_store_df)"
   ]
  },
  {
   "cell_type": "code",
   "execution_count": 38,
   "id": "4f9d413a",
   "metadata": {},
   "outputs": [
    {
     "name": "stderr",
     "output_type": "stream",
     "text": [
      "Data Manipulatior:INFO->Successfully Added WeekDay Column to the DataFrame\n"
     ]
    }
   ],
   "source": [
    "# adding weekdays feature\n",
    "manuplator.add_week_day('DayOfWeek')"
   ]
  },
  {
   "cell_type": "code",
   "execution_count": 39,
   "id": "9b00c858",
   "metadata": {},
   "outputs": [
    {
     "name": "stderr",
     "output_type": "stream",
     "text": [
      "Data Manipulatior:INFO->Successfully Added DaysToHoliday Column\n"
     ]
    }
   ],
   "source": [
    "# adding number of days\n",
    "manuplator.add_number_of_days_to_holiday('StateHoliday')"
   ]
  },
  {
   "cell_type": "code",
   "execution_count": 57,
   "id": "5de05bbd",
   "metadata": {},
   "outputs": [
    {
     "name": "stderr",
     "output_type": "stream",
     "text": [
      "Data Manipulatior:ERROR->Failed to Add DaysAfterHoliday Column\n",
      "Traceback (most recent call last):\n",
      "  File \"../scripts\\data_manipulation.py\", line 132, in add_number_of_days_after_holiday\n",
      "    last_holiday_index = modified_index.index('during')\n",
      "ValueError: 'during' is not in list\n"
     ]
    }
   ],
   "source": [
    "# adding number of days after holydays\n",
    "manuplator.add_number_of_days_after_holiday('StateHoliday')"
   ]
  },
  {
   "cell_type": "code",
   "execution_count": 41,
   "id": "ea8e43f1",
   "metadata": {},
   "outputs": [
    {
     "name": "stderr",
     "output_type": "stream",
     "text": [
      "Data Manipulatior:INFO->Successfully Added MonthTiming Column\n"
     ]
    }
   ],
   "source": [
    "manuplator.add_month_timing('Day')"
   ]
  },
  {
   "cell_type": "code",
   "execution_count": null,
   "id": "1ab92d5e",
   "metadata": {},
   "outputs": [],
   "source": []
  },
  {
   "cell_type": "code",
   "execution_count": 42,
   "id": "9b8e6331",
   "metadata": {},
   "outputs": [],
   "source": [
    "# Adding salespercustomer column\n",
    "merged_train_store_df['SalesPerCustomer']=merged_train_store_df['Sales']/merged_train_store_df['Customers']"
   ]
  },
  {
   "cell_type": "code",
   "execution_count": 43,
   "id": "b8f0a5bf",
   "metadata": {},
   "outputs": [],
   "source": [
    "\n",
    "merged_train_store_df['CompetitionOpenSince'] = np.where((merged_train_store_df['CompetitionOpenSinceMonth']==0) & \n",
    "                                                  (merged_train_store_df['CompetitionOpenSinceYear']==0) , 0,\n",
    "                                                  (merged_train_store_df.Month - merged_train_store_df.CompetitionOpenSinceMonth) \n",
    "                                                  + (12 * (merged_train_store_df.Year - merged_train_store_df.CompetitionOpenSinceYear)))"
   ]
  },
  {
   "cell_type": "code",
   "execution_count": 45,
   "id": "fe672234",
   "metadata": {},
   "outputs": [
    {
     "name": "stderr",
     "output_type": "stream",
     "text": [
      "Data Manipulatior:INFO->Successfully Added Season Column\n"
     ]
    }
   ],
   "source": [
    "# Adding Season\n",
    "manuplator.add_season('Month')"
   ]
  },
  {
   "cell_type": "code",
   "execution_count": null,
   "id": "2a89309b",
   "metadata": {},
   "outputs": [],
   "source": []
  },
  {
   "cell_type": "code",
   "execution_count": 46,
   "id": "789ca09d",
   "metadata": {},
   "outputs": [],
   "source": [
    "merged_train_store_df.to_csv('../data/combined_train_store.csv', index=False)"
   ]
  },
  {
   "cell_type": "markdown",
   "id": "bd094117",
   "metadata": {},
   "source": [
    "### <font color='darkolivegreen'>Labling</font>"
   ]
  },
  {
   "cell_type": "code",
   "execution_count": 47,
   "id": "3ef65324",
   "metadata": {},
   "outputs": [],
   "source": [
    "merged_train_store_df['StateHoliday'] = merged_train_store_df['StateHoliday'].apply(lambda x: 'o' if x == '0' else x)\n",
    "merged_train_store_df['StateHoliday'] = merged_train_store_df['StateHoliday'].apply(lambda x: 'o' if x == 0 else x)"
   ]
  },
  {
   "cell_type": "code",
   "execution_count": 48,
   "id": "0849c2fc",
   "metadata": {},
   "outputs": [
    {
     "data": {
      "text/plain": [
       "{'Season': LabelEncoder(),\n",
       " 'StoreType': LabelEncoder(),\n",
       " 'Assortment': LabelEncoder(),\n",
       " 'StateHoliday': LabelEncoder(),\n",
       " 'PromoInterval': LabelEncoder()}"
      ]
     },
     "execution_count": 48,
     "metadata": {},
     "output_type": "execute_result"
    }
   ],
   "source": [
    "#Converting catagorical variables with label\n",
    "manuplator.label_columns(['Season', 'StoreType', 'Assortment', 'StateHoliday', 'PromoInterval'])"
   ]
  },
  {
   "cell_type": "markdown",
   "id": "9c3d2d83",
   "metadata": {},
   "source": [
    "### <font color='darkolivegreen'>Conversion</font>"
   ]
  },
  {
   "cell_type": "code",
   "execution_count": 49,
   "id": "9538ca25",
   "metadata": {},
   "outputs": [],
   "source": [
    "merged_train_store_df['CompetitionOpenSinceMonth'] = merged_train_store_df['CompetitionOpenSinceMonth'].astype(int)\n",
    "merged_train_store_df['CompetitionOpenSinceYear'] = merged_train_store_df['CompetitionOpenSinceYear'].astype(int)\n",
    "merged_train_store_df['Promo2SinceWeek'] = merged_train_store_df['Promo2SinceWeek'].astype(int)\n",
    "merged_train_store_df['Promo2SinceYear'] = merged_train_store_df['Promo2SinceYear'].astype(int)\n",
    "merged_train_store_df['CompetitionOpenSince'] = merged_train_store_df['CompetitionOpenSince'].astype(int)\n"
   ]
  },
  {
   "cell_type": "markdown",
   "id": "624ac29b",
   "metadata": {},
   "source": [
    "### <font color='darkolivegreen'>Scaling</font>"
   ]
  },
  {
   "cell_type": "code",
   "execution_count": 50,
   "id": "3c5f558c",
   "metadata": {},
   "outputs": [],
   "source": [
    "# Store Date Customers\n",
    "merged_train_store_df.drop(['Store','Date'],axis=1,inplace=True)"
   ]
  },
  {
   "cell_type": "code",
   "execution_count": 52,
   "id": "dff0ba02",
   "metadata": {},
   "outputs": [
    {
     "data": {
      "text/html": [
       "<div>\n",
       "<style scoped>\n",
       "    .dataframe tbody tr th:only-of-type {\n",
       "        vertical-align: middle;\n",
       "    }\n",
       "\n",
       "    .dataframe tbody tr th {\n",
       "        vertical-align: top;\n",
       "    }\n",
       "\n",
       "    .dataframe thead th {\n",
       "        text-align: right;\n",
       "    }\n",
       "</style>\n",
       "<table border=\"1\" class=\"dataframe\">\n",
       "  <thead>\n",
       "    <tr style=\"text-align: right;\">\n",
       "      <th></th>\n",
       "      <th>DayOfWeek</th>\n",
       "      <th>WeekDay</th>\n",
       "      <th>Year</th>\n",
       "      <th>Month</th>\n",
       "      <th>Season</th>\n",
       "      <th>Day</th>\n",
       "      <th>MonthTiming</th>\n",
       "      <th>Sales</th>\n",
       "      <th>Customers</th>\n",
       "      <th>Open</th>\n",
       "      <th>Promo</th>\n",
       "      <th>StateHoliday</th>\n",
       "      <th>DaysAfterHoliday</th>\n",
       "      <th>DaysToHoliday</th>\n",
       "      <th>SchoolHoliday</th>\n",
       "      <th>StoreType</th>\n",
       "      <th>Assortment</th>\n",
       "      <th>CompetitionDistance</th>\n",
       "      <th>CompetitionOpenSinceMonth</th>\n",
       "      <th>CompetitionOpenSinceYear</th>\n",
       "      <th>Promo2</th>\n",
       "      <th>Promo2SinceWeek</th>\n",
       "      <th>Promo2SinceYear</th>\n",
       "      <th>PromoInterval</th>\n",
       "      <th>SalesPerCustomer</th>\n",
       "      <th>CompetitionOpenSince</th>\n",
       "    </tr>\n",
       "  </thead>\n",
       "  <tbody>\n",
       "    <tr>\n",
       "      <th>0</th>\n",
       "      <td>0.501484</td>\n",
       "      <td>0.630672</td>\n",
       "      <td>1.502077</td>\n",
       "      <td>0.346724</td>\n",
       "      <td>0.389712</td>\n",
       "      <td>1.740766</td>\n",
       "      <td>1.205894</td>\n",
       "      <td>-0.063134</td>\n",
       "      <td>-0.067027</td>\n",
       "      <td>0.452399</td>\n",
       "      <td>1.273237</td>\n",
       "      <td>0.170475</td>\n",
       "      <td>-0.377936</td>\n",
       "      <td>0.902904</td>\n",
       "      <td>2.144211</td>\n",
       "      <td>0.580451</td>\n",
       "      <td>-0.940975</td>\n",
       "      <td>-0.538742</td>\n",
       "      <td>0.436247</td>\n",
       "      <td>-0.385752</td>\n",
       "      <td>-1.001128</td>\n",
       "      <td>-0.421904</td>\n",
       "      <td>-0.305054</td>\n",
       "      <td>0.045131</td>\n",
       "      <td>-0.093996</td>\n",
       "      <td>0.595717</td>\n",
       "    </tr>\n",
       "    <tr>\n",
       "      <th>1</th>\n",
       "      <td>0.000831</td>\n",
       "      <td>0.630672</td>\n",
       "      <td>1.502077</td>\n",
       "      <td>0.346724</td>\n",
       "      <td>0.389712</td>\n",
       "      <td>1.626969</td>\n",
       "      <td>1.205894</td>\n",
       "      <td>-0.136239</td>\n",
       "      <td>-0.092863</td>\n",
       "      <td>0.452399</td>\n",
       "      <td>1.273237</td>\n",
       "      <td>0.170475</td>\n",
       "      <td>-0.377936</td>\n",
       "      <td>0.869731</td>\n",
       "      <td>2.144211</td>\n",
       "      <td>0.580451</td>\n",
       "      <td>-0.940975</td>\n",
       "      <td>-0.538742</td>\n",
       "      <td>0.436247</td>\n",
       "      <td>-0.385752</td>\n",
       "      <td>-1.001128</td>\n",
       "      <td>-0.421904</td>\n",
       "      <td>-0.305054</td>\n",
       "      <td>0.045131</td>\n",
       "      <td>-0.207208</td>\n",
       "      <td>0.595717</td>\n",
       "    </tr>\n",
       "    <tr>\n",
       "      <th>2</th>\n",
       "      <td>-0.499823</td>\n",
       "      <td>0.630672</td>\n",
       "      <td>1.502077</td>\n",
       "      <td>0.346724</td>\n",
       "      <td>0.389712</td>\n",
       "      <td>1.513173</td>\n",
       "      <td>1.205894</td>\n",
       "      <td>-0.207840</td>\n",
       "      <td>-0.158887</td>\n",
       "      <td>0.452399</td>\n",
       "      <td>1.273237</td>\n",
       "      <td>0.170475</td>\n",
       "      <td>-0.377936</td>\n",
       "      <td>0.836557</td>\n",
       "      <td>2.144211</td>\n",
       "      <td>0.580451</td>\n",
       "      <td>-0.940975</td>\n",
       "      <td>-0.538742</td>\n",
       "      <td>0.436247</td>\n",
       "      <td>-0.385752</td>\n",
       "      <td>-1.001128</td>\n",
       "      <td>-0.421904</td>\n",
       "      <td>-0.305054</td>\n",
       "      <td>0.045131</td>\n",
       "      <td>-0.227101</td>\n",
       "      <td>0.595717</td>\n",
       "    </tr>\n",
       "    <tr>\n",
       "      <th>3</th>\n",
       "      <td>-1.000476</td>\n",
       "      <td>0.630672</td>\n",
       "      <td>1.502077</td>\n",
       "      <td>0.346724</td>\n",
       "      <td>0.389712</td>\n",
       "      <td>1.399377</td>\n",
       "      <td>1.205894</td>\n",
       "      <td>-0.138946</td>\n",
       "      <td>-0.052674</td>\n",
       "      <td>0.452399</td>\n",
       "      <td>1.273237</td>\n",
       "      <td>0.170475</td>\n",
       "      <td>-0.377936</td>\n",
       "      <td>0.803384</td>\n",
       "      <td>2.144211</td>\n",
       "      <td>0.580451</td>\n",
       "      <td>-0.940975</td>\n",
       "      <td>-0.538742</td>\n",
       "      <td>0.436247</td>\n",
       "      <td>-0.385752</td>\n",
       "      <td>-1.001128</td>\n",
       "      <td>-0.421904</td>\n",
       "      <td>-0.305054</td>\n",
       "      <td>0.045131</td>\n",
       "      <td>-0.303632</td>\n",
       "      <td>0.595717</td>\n",
       "    </tr>\n",
       "    <tr>\n",
       "      <th>4</th>\n",
       "      <td>-1.501129</td>\n",
       "      <td>0.630672</td>\n",
       "      <td>1.502077</td>\n",
       "      <td>0.346724</td>\n",
       "      <td>0.389712</td>\n",
       "      <td>1.285581</td>\n",
       "      <td>1.205894</td>\n",
       "      <td>0.189274</td>\n",
       "      <td>0.096598</td>\n",
       "      <td>0.452399</td>\n",
       "      <td>1.273237</td>\n",
       "      <td>0.170475</td>\n",
       "      <td>-0.377936</td>\n",
       "      <td>0.770211</td>\n",
       "      <td>2.144211</td>\n",
       "      <td>0.580451</td>\n",
       "      <td>-0.940975</td>\n",
       "      <td>-0.538742</td>\n",
       "      <td>0.436247</td>\n",
       "      <td>-0.385752</td>\n",
       "      <td>-1.001128</td>\n",
       "      <td>-0.421904</td>\n",
       "      <td>-0.305054</td>\n",
       "      <td>0.045131</td>\n",
       "      <td>0.097227</td>\n",
       "      <td>0.595717</td>\n",
       "    </tr>\n",
       "  </tbody>\n",
       "</table>\n",
       "</div>"
      ],
      "text/plain": [
       "   DayOfWeek   WeekDay      Year     Month    Season       Day  MonthTiming  \\\n",
       "0   0.501484  0.630672  1.502077  0.346724  0.389712  1.740766     1.205894   \n",
       "1   0.000831  0.630672  1.502077  0.346724  0.389712  1.626969     1.205894   \n",
       "2  -0.499823  0.630672  1.502077  0.346724  0.389712  1.513173     1.205894   \n",
       "3  -1.000476  0.630672  1.502077  0.346724  0.389712  1.399377     1.205894   \n",
       "4  -1.501129  0.630672  1.502077  0.346724  0.389712  1.285581     1.205894   \n",
       "\n",
       "      Sales  Customers      Open     Promo  StateHoliday  DaysAfterHoliday  \\\n",
       "0 -0.063134  -0.067027  0.452399  1.273237      0.170475         -0.377936   \n",
       "1 -0.136239  -0.092863  0.452399  1.273237      0.170475         -0.377936   \n",
       "2 -0.207840  -0.158887  0.452399  1.273237      0.170475         -0.377936   \n",
       "3 -0.138946  -0.052674  0.452399  1.273237      0.170475         -0.377936   \n",
       "4  0.189274   0.096598  0.452399  1.273237      0.170475         -0.377936   \n",
       "\n",
       "   DaysToHoliday  SchoolHoliday  StoreType  Assortment  CompetitionDistance  \\\n",
       "0       0.902904       2.144211   0.580451   -0.940975            -0.538742   \n",
       "1       0.869731       2.144211   0.580451   -0.940975            -0.538742   \n",
       "2       0.836557       2.144211   0.580451   -0.940975            -0.538742   \n",
       "3       0.803384       2.144211   0.580451   -0.940975            -0.538742   \n",
       "4       0.770211       2.144211   0.580451   -0.940975            -0.538742   \n",
       "\n",
       "   CompetitionOpenSinceMonth  CompetitionOpenSinceYear    Promo2  \\\n",
       "0                   0.436247                 -0.385752 -1.001128   \n",
       "1                   0.436247                 -0.385752 -1.001128   \n",
       "2                   0.436247                 -0.385752 -1.001128   \n",
       "3                   0.436247                 -0.385752 -1.001128   \n",
       "4                   0.436247                 -0.385752 -1.001128   \n",
       "\n",
       "   Promo2SinceWeek  Promo2SinceYear  PromoInterval  SalesPerCustomer  \\\n",
       "0        -0.421904        -0.305054       0.045131         -0.093996   \n",
       "1        -0.421904        -0.305054       0.045131         -0.207208   \n",
       "2        -0.421904        -0.305054       0.045131         -0.227101   \n",
       "3        -0.421904        -0.305054       0.045131         -0.303632   \n",
       "4        -0.421904        -0.305054       0.045131          0.097227   \n",
       "\n",
       "   CompetitionOpenSince  \n",
       "0              0.595717  \n",
       "1              0.595717  \n",
       "2              0.595717  \n",
       "3              0.595717  \n",
       "4              0.595717  "
      ]
     },
     "execution_count": 52,
     "metadata": {},
     "output_type": "execute_result"
    }
   ],
   "source": [
    "#Using StandardScaler to standardize the all columns\n",
    "scale_list = merged_train_store_df.columns.to_list()\n",
    "manuplator.standardize_columns(scale_list)\n",
    "merged_train_store_df.head()"
   ]
  },
  {
   "cell_type": "code",
   "execution_count": null,
   "id": "385bb172",
   "metadata": {},
   "outputs": [],
   "source": []
  },
  {
   "cell_type": "code",
   "execution_count": null,
   "id": "3b46aa53",
   "metadata": {},
   "outputs": [],
   "source": []
  },
  {
   "cell_type": "code",
   "execution_count": null,
   "id": "7c99bb7b",
   "metadata": {},
   "outputs": [],
   "source": []
  },
  {
   "cell_type": "markdown",
   "id": "5f4b1c9c",
   "metadata": {},
   "source": [
    "### <font color='darkolivegreen'>Save to CSV</font>"
   ]
  },
  {
   "cell_type": "code",
   "execution_count": 53,
   "id": "106786b6",
   "metadata": {},
   "outputs": [
    {
     "data": {
      "text/plain": [
       "['DayOfWeek',\n",
       " 'WeekDay',\n",
       " 'Year',\n",
       " 'Month',\n",
       " 'Season',\n",
       " 'Day',\n",
       " 'MonthTiming',\n",
       " 'Sales',\n",
       " 'Customers',\n",
       " 'Open',\n",
       " 'Promo',\n",
       " 'StateHoliday',\n",
       " 'DaysAfterHoliday',\n",
       " 'DaysToHoliday',\n",
       " 'SchoolHoliday',\n",
       " 'StoreType',\n",
       " 'Assortment',\n",
       " 'CompetitionDistance',\n",
       " 'CompetitionOpenSinceMonth',\n",
       " 'CompetitionOpenSinceYear',\n",
       " 'Promo2',\n",
       " 'Promo2SinceWeek',\n",
       " 'Promo2SinceYear',\n",
       " 'PromoInterval',\n",
       " 'SalesPerCustomer',\n",
       " 'CompetitionOpenSince']"
      ]
     },
     "execution_count": 53,
     "metadata": {},
     "output_type": "execute_result"
    }
   ],
   "source": [
    "merged_train_store_df.columns.to_list()"
   ]
  },
  {
   "cell_type": "code",
   "execution_count": 54,
   "id": "26d0667c",
   "metadata": {},
   "outputs": [
    {
     "data": {
      "text/plain": [
       "DayOfWeek                    float64\n",
       "WeekDay                      float64\n",
       "Year                         float64\n",
       "Month                        float64\n",
       "Season                       float64\n",
       "Day                          float64\n",
       "MonthTiming                  float64\n",
       "Sales                        float64\n",
       "Customers                    float64\n",
       "Open                         float64\n",
       "Promo                        float64\n",
       "StateHoliday                 float64\n",
       "DaysAfterHoliday             float64\n",
       "DaysToHoliday                float64\n",
       "SchoolHoliday                float64\n",
       "StoreType                    float64\n",
       "Assortment                   float64\n",
       "CompetitionDistance          float64\n",
       "CompetitionOpenSinceMonth    float64\n",
       "CompetitionOpenSinceYear     float64\n",
       "Promo2                       float64\n",
       "Promo2SinceWeek              float64\n",
       "Promo2SinceYear              float64\n",
       "PromoInterval                float64\n",
       "SalesPerCustomer             float64\n",
       "CompetitionOpenSince         float64\n",
       "dtype: object"
      ]
     },
     "execution_count": 54,
     "metadata": {},
     "output_type": "execute_result"
    }
   ],
   "source": [
    "merged_train_store_df.dtypes"
   ]
  },
  {
   "cell_type": "code",
   "execution_count": 55,
   "id": "41c2a4a1",
   "metadata": {},
   "outputs": [
    {
     "name": "stdout",
     "output_type": "stream",
     "text": [
      "<class 'pandas.core.frame.DataFrame'>\n",
      "Int64Index: 1017209 entries, 0 to 1017208\n",
      "Data columns (total 26 columns):\n",
      " #   Column                     Non-Null Count    Dtype  \n",
      "---  ------                     --------------    -----  \n",
      " 0   DayOfWeek                  1017209 non-null  float64\n",
      " 1   WeekDay                    1017209 non-null  float64\n",
      " 2   Year                       1017209 non-null  float64\n",
      " 3   Month                      1017209 non-null  float64\n",
      " 4   Season                     1017209 non-null  float64\n",
      " 5   Day                        1017209 non-null  float64\n",
      " 6   MonthTiming                1017209 non-null  float64\n",
      " 7   Sales                      1017209 non-null  float64\n",
      " 8   Customers                  1017209 non-null  float64\n",
      " 9   Open                       1017209 non-null  float64\n",
      " 10  Promo                      1017209 non-null  float64\n",
      " 11  StateHoliday               1017209 non-null  float64\n",
      " 12  DaysAfterHoliday           1017209 non-null  float64\n",
      " 13  DaysToHoliday              1017209 non-null  float64\n",
      " 14  SchoolHoliday              1017209 non-null  float64\n",
      " 15  StoreType                  1017209 non-null  float64\n",
      " 16  Assortment                 1017209 non-null  float64\n",
      " 17  CompetitionDistance        1017209 non-null  float64\n",
      " 18  CompetitionOpenSinceMonth  1017209 non-null  float64\n",
      " 19  CompetitionOpenSinceYear   1017209 non-null  float64\n",
      " 20  Promo2                     1017209 non-null  float64\n",
      " 21  Promo2SinceWeek            1017209 non-null  float64\n",
      " 22  Promo2SinceYear            1017209 non-null  float64\n",
      " 23  PromoInterval              1017209 non-null  float64\n",
      " 24  SalesPerCustomer           844340 non-null   float64\n",
      " 25  CompetitionOpenSince       1017209 non-null  float64\n",
      "dtypes: float64(26)\n",
      "memory usage: 209.5 MB\n"
     ]
    }
   ],
   "source": [
    "merged_train_store_df.info()"
   ]
  },
  {
   "cell_type": "code",
   "execution_count": 56,
   "id": "516197c2",
   "metadata": {},
   "outputs": [],
   "source": [
    "merged_train_store_df.to_csv('../data/store_train.csv', index=False)"
   ]
  },
  {
   "cell_type": "markdown",
   "id": "6c9bee7c",
   "metadata": {},
   "source": [
    ">`Merged CSV produced!`"
   ]
  },
  {
   "cell_type": "markdown",
   "id": "5a203ac3",
   "metadata": {},
   "source": [
    "***\n",
    "***"
   ]
  }
 ],
 "metadata": {
  "kernelspec": {
   "display_name": "Python 3",
   "language": "python",
   "name": "python3"
  },
  "language_info": {
   "codemirror_mode": {
    "name": "ipython",
    "version": 3
   },
   "file_extension": ".py",
   "mimetype": "text/x-python",
   "name": "python",
   "nbconvert_exporter": "python",
   "pygments_lexer": "ipython3",
   "version": "3.8.8"
  }
 },
 "nbformat": 4,
 "nbformat_minor": 5
}

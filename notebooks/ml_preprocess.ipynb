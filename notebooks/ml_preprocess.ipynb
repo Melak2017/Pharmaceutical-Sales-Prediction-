{
 "cells": [
  {
   "cell_type": "markdown",
   "id": "801b6123",
   "metadata": {},
   "source": [
    "# Pre Process "
   ]
  },
  {
   "cell_type": "code",
   "execution_count": 1,
   "id": "51a3bf21",
   "metadata": {},
   "outputs": [],
   "source": [
    "# Ignore Warnings\n",
    "import warnings\n",
    "warnings.filterwarnings(\"ignore\")\n",
    "\n",
    "#for easy access to path\n",
    "import sys\n",
    "import os\n",
    "\n",
    "#importing packages for data manuplation and visualization\n",
    "import numpy as np\n",
    "import pandas as pd\n",
    "import math\n"
   ]
  },
  {
   "cell_type": "code",
   "execution_count": 2,
   "id": "462f51b5",
   "metadata": {},
   "outputs": [],
   "source": [
    "#Acessing scripts and data path\n",
    "sys.path.append(os.path.abspath(os.path.join('data')))\n",
    "sys.path.insert(0,'../scripts/')"
   ]
  },
  {
   "cell_type": "code",
   "execution_count": 3,
   "id": "a74525ba",
   "metadata": {},
   "outputs": [],
   "source": [
    "#import local libraries\n",
    "from clean_train_test_df import CleanStoreDf\n",
    "from data_preview import DataPreview\n",
    "from data_loader import load_df_from_csv\n",
    "from data_manipulation import DataManipulator\n",
    "from plots import *\n",
    "from result import ResultPicker"
   ]
  },
  {
   "cell_type": "code",
   "execution_count": 4,
   "id": "bbc1251a",
   "metadata": {},
   "outputs": [],
   "source": [
    "#reading our data\n",
    "pd.set_option('max_column', None)\n",
    "pd.set_option('max_rows', None)\n",
    "\n",
    "store_df=pd.read_csv('../data/store.csv')\n",
    "train_df=pd.read_csv('../data/train.csv')\n",
    "test_df=pd.read_csv('../data/test.csv')\n"
   ]
  },
  {
   "cell_type": "code",
   "execution_count": 48,
   "id": "aa96d270",
   "metadata": {},
   "outputs": [],
   "source": [
    "#creating an object\n",
    "store_data=DataPreview(store_df)\n",
    "train_data=DataPreview(train_df)\n",
    "test_data=DataPreview(test_df)\n",
    "merged_df=DataPreview(merged_train_store_df)\n",
    "\n",
    "results = ResultPicker()"
   ]
  },
  {
   "cell_type": "code",
   "execution_count": 6,
   "id": "ba9b6365",
   "metadata": {},
   "outputs": [
    {
     "data": {
      "text/plain": [
       "Store             int64\n",
       "DayOfWeek         int64\n",
       "Date             object\n",
       "Sales             int64\n",
       "Customers         int64\n",
       "Open              int64\n",
       "Promo             int64\n",
       "StateHoliday     object\n",
       "SchoolHoliday     int64\n",
       "dtype: object"
      ]
     },
     "execution_count": 6,
     "metadata": {},
     "output_type": "execute_result"
    }
   ],
   "source": [
    "train_data_info = DataPreview(train_df)\n",
    "train_data_info.show_datatypes()\n",
    "#train_data_info.get_col_unique_value_count('Store')"
   ]
  },
  {
   "cell_type": "code",
   "execution_count": 7,
   "id": "bbaa90e5",
   "metadata": {},
   "outputs": [
    {
     "data": {
      "text/plain": [
       "Store                          int64\n",
       "StoreType                     object\n",
       "Assortment                    object\n",
       "CompetitionDistance          float64\n",
       "CompetitionOpenSinceMonth    float64\n",
       "CompetitionOpenSinceYear     float64\n",
       "Promo2                         int64\n",
       "Promo2SinceWeek              float64\n",
       "Promo2SinceYear              float64\n",
       "PromoInterval                 object\n",
       "dtype: object"
      ]
     },
     "execution_count": 7,
     "metadata": {},
     "output_type": "execute_result"
    }
   ],
   "source": [
    "store_data_info = DataPreview(store_df)\n",
    "store_data_info.show_datatypes()"
   ]
  },
  {
   "cell_type": "markdown",
   "id": "306a08c4",
   "metadata": {},
   "source": [
    "## <font color='darkolivegreen'>Missing Value</font>"
   ]
  },
  {
   "cell_type": "markdown",
   "id": "c5de9063",
   "metadata": {},
   "source": [
    "#### STORE DATASET"
   ]
  },
  {
   "cell_type": "code",
   "execution_count": 27,
   "id": "34ddd5ac",
   "metadata": {},
   "outputs": [
    {
     "name": "stdout",
     "output_type": "stream",
     "text": [
      "The dataset contains 21.01 % missing values.\n"
     ]
    },
    {
     "data": {
      "text/html": [
       "<div>\n",
       "<style scoped>\n",
       "    .dataframe tbody tr th:only-of-type {\n",
       "        vertical-align: middle;\n",
       "    }\n",
       "\n",
       "    .dataframe tbody tr th {\n",
       "        vertical-align: top;\n",
       "    }\n",
       "\n",
       "    .dataframe thead th {\n",
       "        text-align: right;\n",
       "    }\n",
       "</style>\n",
       "<table border=\"1\" class=\"dataframe\">\n",
       "  <thead>\n",
       "    <tr style=\"text-align: right;\">\n",
       "      <th></th>\n",
       "      <th>total_missing_values</th>\n",
       "      <th>missing_percentage</th>\n",
       "    </tr>\n",
       "  </thead>\n",
       "  <tbody>\n",
       "    <tr>\n",
       "      <th>Promo2SinceWeek</th>\n",
       "      <td>544</td>\n",
       "      <td>48.79 %</td>\n",
       "    </tr>\n",
       "    <tr>\n",
       "      <th>Promo2SinceYear</th>\n",
       "      <td>544</td>\n",
       "      <td>48.79 %</td>\n",
       "    </tr>\n",
       "    <tr>\n",
       "      <th>PromoInterval</th>\n",
       "      <td>544</td>\n",
       "      <td>48.79 %</td>\n",
       "    </tr>\n",
       "    <tr>\n",
       "      <th>CompetitionOpenSinceMonth</th>\n",
       "      <td>354</td>\n",
       "      <td>31.75 %</td>\n",
       "    </tr>\n",
       "    <tr>\n",
       "      <th>CompetitionOpenSinceYear</th>\n",
       "      <td>354</td>\n",
       "      <td>31.75 %</td>\n",
       "    </tr>\n",
       "    <tr>\n",
       "      <th>CompetitionDistance</th>\n",
       "      <td>3</td>\n",
       "      <td>0.27 %</td>\n",
       "    </tr>\n",
       "    <tr>\n",
       "      <th>Store</th>\n",
       "      <td>0</td>\n",
       "      <td>0.0 %</td>\n",
       "    </tr>\n",
       "    <tr>\n",
       "      <th>StoreType</th>\n",
       "      <td>0</td>\n",
       "      <td>0.0 %</td>\n",
       "    </tr>\n",
       "    <tr>\n",
       "      <th>Assortment</th>\n",
       "      <td>0</td>\n",
       "      <td>0.0 %</td>\n",
       "    </tr>\n",
       "    <tr>\n",
       "      <th>Promo2</th>\n",
       "      <td>0</td>\n",
       "      <td>0.0 %</td>\n",
       "    </tr>\n",
       "  </tbody>\n",
       "</table>\n",
       "</div>"
      ],
      "text/plain": [
       "                           total_missing_values missing_percentage\n",
       "Promo2SinceWeek                             544            48.79 %\n",
       "Promo2SinceYear                             544            48.79 %\n",
       "PromoInterval                               544            48.79 %\n",
       "CompetitionOpenSinceMonth                   354            31.75 %\n",
       "CompetitionOpenSinceYear                    354            31.75 %\n",
       "CompetitionDistance                           3             0.27 %\n",
       "Store                                         0              0.0 %\n",
       "StoreType                                     0              0.0 %\n",
       "Assortment                                    0              0.0 %\n",
       "Promo2                                        0              0.0 %"
      ]
     },
     "execution_count": 27,
     "metadata": {},
     "output_type": "execute_result"
    }
   ],
   "source": [
    "missing = store_data.percent_missing(store_df)\n",
    "results.add_data('missing_data',missing)\n",
    "missing\n",
    "\n",
    "#get the missing percenatage in each columns\n",
    "store_data.missing_values_table()"
   ]
  },
  {
   "cell_type": "markdown",
   "id": "354b55b5",
   "metadata": {},
   "source": [
    "#### TEST DATASET"
   ]
  },
  {
   "cell_type": "code",
   "execution_count": 9,
   "id": "93b7a7cf",
   "metadata": {},
   "outputs": [
    {
     "name": "stdout",
     "output_type": "stream",
     "text": [
      "The dataset contains 21.01 % missing values.\n"
     ]
    },
    {
     "data": {
      "text/html": [
       "<div>\n",
       "<style scoped>\n",
       "    .dataframe tbody tr th:only-of-type {\n",
       "        vertical-align: middle;\n",
       "    }\n",
       "\n",
       "    .dataframe tbody tr th {\n",
       "        vertical-align: top;\n",
       "    }\n",
       "\n",
       "    .dataframe thead th {\n",
       "        text-align: right;\n",
       "    }\n",
       "</style>\n",
       "<table border=\"1\" class=\"dataframe\">\n",
       "  <thead>\n",
       "    <tr style=\"text-align: right;\">\n",
       "      <th></th>\n",
       "      <th>total_missing_values</th>\n",
       "      <th>missing_percentage</th>\n",
       "    </tr>\n",
       "  </thead>\n",
       "  <tbody>\n",
       "    <tr>\n",
       "      <th>Open</th>\n",
       "      <td>11</td>\n",
       "      <td>0.03 %</td>\n",
       "    </tr>\n",
       "    <tr>\n",
       "      <th>Id</th>\n",
       "      <td>0</td>\n",
       "      <td>0.0 %</td>\n",
       "    </tr>\n",
       "    <tr>\n",
       "      <th>Store</th>\n",
       "      <td>0</td>\n",
       "      <td>0.0 %</td>\n",
       "    </tr>\n",
       "    <tr>\n",
       "      <th>DayOfWeek</th>\n",
       "      <td>0</td>\n",
       "      <td>0.0 %</td>\n",
       "    </tr>\n",
       "    <tr>\n",
       "      <th>Date</th>\n",
       "      <td>0</td>\n",
       "      <td>0.0 %</td>\n",
       "    </tr>\n",
       "    <tr>\n",
       "      <th>Promo</th>\n",
       "      <td>0</td>\n",
       "      <td>0.0 %</td>\n",
       "    </tr>\n",
       "    <tr>\n",
       "      <th>StateHoliday</th>\n",
       "      <td>0</td>\n",
       "      <td>0.0 %</td>\n",
       "    </tr>\n",
       "    <tr>\n",
       "      <th>SchoolHoliday</th>\n",
       "      <td>0</td>\n",
       "      <td>0.0 %</td>\n",
       "    </tr>\n",
       "  </tbody>\n",
       "</table>\n",
       "</div>"
      ],
      "text/plain": [
       "               total_missing_values missing_percentage\n",
       "Open                             11             0.03 %\n",
       "Id                                0              0.0 %\n",
       "Store                             0              0.0 %\n",
       "DayOfWeek                         0              0.0 %\n",
       "Date                              0              0.0 %\n",
       "Promo                             0              0.0 %\n",
       "StateHoliday                      0              0.0 %\n",
       "SchoolHoliday                     0              0.0 %"
      ]
     },
     "execution_count": 9,
     "metadata": {},
     "output_type": "execute_result"
    }
   ],
   "source": [
    "missing = test_data.percent_missing(store_df)\n",
    "results.add_data('missing_data',missing)\n",
    "missing\n",
    "\n",
    "#get the missing percenatage in each columns\n",
    "test_data.missing_values_table()"
   ]
  },
  {
   "cell_type": "markdown",
   "id": "2214b0bf",
   "metadata": {},
   "source": [
    "#### TRAIN DATASET"
   ]
  },
  {
   "cell_type": "code",
   "execution_count": 10,
   "id": "ceb735e1",
   "metadata": {},
   "outputs": [
    {
     "name": "stdout",
     "output_type": "stream",
     "text": [
      "The dataset contains 0.0 % missing values.\n"
     ]
    },
    {
     "data": {
      "text/html": [
       "<div>\n",
       "<style scoped>\n",
       "    .dataframe tbody tr th:only-of-type {\n",
       "        vertical-align: middle;\n",
       "    }\n",
       "\n",
       "    .dataframe tbody tr th {\n",
       "        vertical-align: top;\n",
       "    }\n",
       "\n",
       "    .dataframe thead th {\n",
       "        text-align: right;\n",
       "    }\n",
       "</style>\n",
       "<table border=\"1\" class=\"dataframe\">\n",
       "  <thead>\n",
       "    <tr style=\"text-align: right;\">\n",
       "      <th></th>\n",
       "      <th>total_missing_values</th>\n",
       "      <th>missing_percentage</th>\n",
       "    </tr>\n",
       "  </thead>\n",
       "  <tbody>\n",
       "    <tr>\n",
       "      <th>Open</th>\n",
       "      <td>11</td>\n",
       "      <td>0.03 %</td>\n",
       "    </tr>\n",
       "    <tr>\n",
       "      <th>Id</th>\n",
       "      <td>0</td>\n",
       "      <td>0.0 %</td>\n",
       "    </tr>\n",
       "    <tr>\n",
       "      <th>Store</th>\n",
       "      <td>0</td>\n",
       "      <td>0.0 %</td>\n",
       "    </tr>\n",
       "    <tr>\n",
       "      <th>DayOfWeek</th>\n",
       "      <td>0</td>\n",
       "      <td>0.0 %</td>\n",
       "    </tr>\n",
       "    <tr>\n",
       "      <th>Date</th>\n",
       "      <td>0</td>\n",
       "      <td>0.0 %</td>\n",
       "    </tr>\n",
       "    <tr>\n",
       "      <th>Promo</th>\n",
       "      <td>0</td>\n",
       "      <td>0.0 %</td>\n",
       "    </tr>\n",
       "    <tr>\n",
       "      <th>StateHoliday</th>\n",
       "      <td>0</td>\n",
       "      <td>0.0 %</td>\n",
       "    </tr>\n",
       "    <tr>\n",
       "      <th>SchoolHoliday</th>\n",
       "      <td>0</td>\n",
       "      <td>0.0 %</td>\n",
       "    </tr>\n",
       "  </tbody>\n",
       "</table>\n",
       "</div>"
      ],
      "text/plain": [
       "               total_missing_values missing_percentage\n",
       "Open                             11             0.03 %\n",
       "Id                                0              0.0 %\n",
       "Store                             0              0.0 %\n",
       "DayOfWeek                         0              0.0 %\n",
       "Date                              0              0.0 %\n",
       "Promo                             0              0.0 %\n",
       "StateHoliday                      0              0.0 %\n",
       "SchoolHoliday                     0              0.0 %"
      ]
     },
     "execution_count": 10,
     "metadata": {},
     "output_type": "execute_result"
    }
   ],
   "source": [
    "missing = train_data.percent_missing(train_df)\n",
    "results.add_data('missing_data',missing)\n",
    "missing\n",
    "\n",
    "#get the missing percenatage in each columns\n",
    "test_data.missing_values_table()"
   ]
  },
  {
   "cell_type": "code",
   "execution_count": 29,
   "id": "27df8e03",
   "metadata": {},
   "outputs": [],
   "source": [
    "from clean_train_test_df import CleanStoreDf"
   ]
  },
  {
   "cell_type": "code",
   "execution_count": 31,
   "id": "0d76ea34",
   "metadata": {},
   "outputs": [],
   "source": [
    "# object creation \n",
    "train_data_cleaner = CleanStoreDf(train_df)\n",
    "test_data_cleaner = CleanStoreDf(test_df)\n",
    "store_data_cleaner=CleanStoreDf(store_df)"
   ]
  },
  {
   "cell_type": "code",
   "execution_count": 35,
   "id": "ba49b565",
   "metadata": {},
   "outputs": [],
   "source": [
    "#changing the datatype of date column\n",
    "train_data_cleaner.change_column_to_date_type('Date')\n",
    "test_data_cleaner.change_column_to_date_type('Date')"
   ]
  },
  {
   "cell_type": "code",
   "execution_count": 36,
   "id": "8358b6e7",
   "metadata": {},
   "outputs": [
    {
     "data": {
      "text/plain": [
       "Store                     int64\n",
       "DayOfWeek                 int64\n",
       "Date             datetime64[ns]\n",
       "Year                      int64\n",
       "Month                     int64\n",
       "Day                       int64\n",
       "Sales                     int64\n",
       "Customers                 int64\n",
       "Open                      int64\n",
       "Promo                     int64\n",
       "StateHoliday             object\n",
       "SchoolHoliday             int64\n",
       "dtype: object"
      ]
     },
     "execution_count": 36,
     "metadata": {},
     "output_type": "execute_result"
    }
   ],
   "source": [
    "train_data_cleaner.df.dtypes"
   ]
  },
  {
   "cell_type": "code",
   "execution_count": 37,
   "id": "278d17ae",
   "metadata": {},
   "outputs": [
    {
     "data": {
      "text/plain": [
       "Id                        int64\n",
       "Store                     int64\n",
       "DayOfWeek                 int64\n",
       "Date             datetime64[ns]\n",
       "Open                    float64\n",
       "Promo                     int64\n",
       "StateHoliday             object\n",
       "SchoolHoliday             int64\n",
       "dtype: object"
      ]
     },
     "execution_count": 37,
     "metadata": {},
     "output_type": "execute_result"
    }
   ],
   "source": [
    "test_data_cleaner.df.dtypes"
   ]
  },
  {
   "cell_type": "markdown",
   "id": "06b53c0d",
   "metadata": {},
   "source": [
    ">`The Date column on both Train and Test is changed to datetime.`"
   ]
  },
  {
   "cell_type": "code",
   "execution_count": 39,
   "id": "a1b4d211",
   "metadata": {},
   "outputs": [],
   "source": [
    "# Separating date for train and test\n",
    "train_data_cleaner.separate_date_column(date_column='Date')\n",
    "test_data_cleaner.separate_date_column(date_column='Date')"
   ]
  },
  {
   "cell_type": "code",
   "execution_count": 40,
   "id": "f5c73de3",
   "metadata": {},
   "outputs": [
    {
     "data": {
      "text/plain": [
       "Store                     int64\n",
       "DayOfWeek                 int64\n",
       "Date             datetime64[ns]\n",
       "Year                      int64\n",
       "Month                     int64\n",
       "Day                       int64\n",
       "Sales                     int64\n",
       "Customers                 int64\n",
       "Open                      int64\n",
       "Promo                     int64\n",
       "StateHoliday             object\n",
       "SchoolHoliday             int64\n",
       "dtype: object"
      ]
     },
     "execution_count": 40,
     "metadata": {},
     "output_type": "execute_result"
    }
   ],
   "source": [
    "train_data_cleaner.df.dtypes"
   ]
  },
  {
   "cell_type": "code",
   "execution_count": 41,
   "id": "30fc7a30",
   "metadata": {},
   "outputs": [
    {
     "data": {
      "text/plain": [
       "Store                          int64\n",
       "StoreType                     object\n",
       "Assortment                    object\n",
       "CompetitionDistance          float64\n",
       "CompetitionOpenSinceMonth    float64\n",
       "CompetitionOpenSinceYear     float64\n",
       "Promo2                         int64\n",
       "Promo2SinceWeek              float64\n",
       "Promo2SinceYear              float64\n",
       "PromoInterval                 object\n",
       "dtype: object"
      ]
     },
     "execution_count": 41,
     "metadata": {},
     "output_type": "execute_result"
    }
   ],
   "source": [
    "store_data_cleaner.df.dtypes"
   ]
  },
  {
   "cell_type": "code",
   "execution_count": 42,
   "id": "3dad898f",
   "metadata": {},
   "outputs": [
    {
     "data": {
      "text/plain": [
       "Store                     int64\n",
       "DayOfWeek                 int64\n",
       "Date             datetime64[ns]\n",
       "Year                      int64\n",
       "Month                     int64\n",
       "Day                       int64\n",
       "Sales                     int64\n",
       "Customers                 int64\n",
       "Open                      int64\n",
       "Promo                     int64\n",
       "StateHoliday             object\n",
       "SchoolHoliday             int64\n",
       "dtype: object"
      ]
     },
     "execution_count": 42,
     "metadata": {},
     "output_type": "execute_result"
    }
   ],
   "source": [
    "train_df.dtypes"
   ]
  },
  {
   "cell_type": "code",
   "execution_count": 43,
   "id": "2b960d41",
   "metadata": {},
   "outputs": [
    {
     "data": {
      "text/plain": [
       "Store                          int64\n",
       "StoreType                     object\n",
       "Assortment                    object\n",
       "CompetitionDistance          float64\n",
       "CompetitionOpenSinceMonth    float64\n",
       "CompetitionOpenSinceYear     float64\n",
       "Promo2                         int64\n",
       "Promo2SinceWeek              float64\n",
       "Promo2SinceYear              float64\n",
       "PromoInterval                 object\n",
       "dtype: object"
      ]
     },
     "execution_count": 43,
     "metadata": {},
     "output_type": "execute_result"
    }
   ],
   "source": [
    "store_df.dtypes"
   ]
  },
  {
   "cell_type": "markdown",
   "id": "6523b2b2",
   "metadata": {},
   "source": [
    ">`Separation complete!`"
   ]
  },
  {
   "cell_type": "markdown",
   "id": "c409f7da",
   "metadata": {},
   "source": [
    "## <font color='darkolivegreen'>Drop Missing Value</font>"
   ]
  },
  {
   "cell_type": "code",
   "execution_count": 51,
   "id": "a559ec1f",
   "metadata": {},
   "outputs": [],
   "source": [
    "#merging store and train dataset \n",
    "merged_train_store_df = pd.merge(train_df, store_df, on=['Store'], how='inner')"
   ]
  },
  {
   "cell_type": "code",
   "execution_count": 52,
   "id": "069c38de",
   "metadata": {},
   "outputs": [
    {
     "data": {
      "text/plain": [
       "Store                                 int64\n",
       "DayOfWeek                             int64\n",
       "Date                         datetime64[ns]\n",
       "Year                                  int64\n",
       "Month                                 int64\n",
       "Day                                   int64\n",
       "Sales                                 int64\n",
       "Customers                             int64\n",
       "Open                                  int64\n",
       "Promo                                 int64\n",
       "StateHoliday                         object\n",
       "SchoolHoliday                         int64\n",
       "StoreType                            object\n",
       "Assortment                           object\n",
       "CompetitionDistance                 float64\n",
       "CompetitionOpenSinceMonth           float64\n",
       "CompetitionOpenSinceYear            float64\n",
       "Promo2                                int64\n",
       "Promo2SinceWeek                     float64\n",
       "Promo2SinceYear                     float64\n",
       "PromoInterval                        object\n",
       "dtype: object"
      ]
     },
     "execution_count": 52,
     "metadata": {},
     "output_type": "execute_result"
    }
   ],
   "source": [
    "merged_train_store_df.dtypes"
   ]
  },
  {
   "cell_type": "markdown",
   "id": "8acc015a",
   "metadata": {},
   "source": [
    ">`Merging Complete!`"
   ]
  },
  {
   "cell_type": "markdown",
   "id": "ea93bfc9",
   "metadata": {},
   "source": [
    "### <font color='darkolivegreen'>Merged Store Train data Missing Value</font>"
   ]
  },
  {
   "cell_type": "code",
   "execution_count": 53,
   "id": "5e35c493",
   "metadata": {},
   "outputs": [
    {
     "name": "stdout",
     "output_type": "stream",
     "text": [
      "The dataset contains 10.17 % missing values.\n"
     ]
    },
    {
     "data": {
      "text/html": [
       "<div>\n",
       "<style scoped>\n",
       "    .dataframe tbody tr th:only-of-type {\n",
       "        vertical-align: middle;\n",
       "    }\n",
       "\n",
       "    .dataframe tbody tr th {\n",
       "        vertical-align: top;\n",
       "    }\n",
       "\n",
       "    .dataframe thead th {\n",
       "        text-align: right;\n",
       "    }\n",
       "</style>\n",
       "<table border=\"1\" class=\"dataframe\">\n",
       "  <thead>\n",
       "    <tr style=\"text-align: right;\">\n",
       "      <th></th>\n",
       "      <th>total_missing_values</th>\n",
       "      <th>missing_percentage</th>\n",
       "    </tr>\n",
       "  </thead>\n",
       "  <tbody>\n",
       "    <tr>\n",
       "      <th>PromoInterval</th>\n",
       "      <td>508031</td>\n",
       "      <td>49.94 %</td>\n",
       "    </tr>\n",
       "    <tr>\n",
       "      <th>Promo2SinceYear</th>\n",
       "      <td>508031</td>\n",
       "      <td>49.94 %</td>\n",
       "    </tr>\n",
       "    <tr>\n",
       "      <th>Promo2SinceWeek</th>\n",
       "      <td>508031</td>\n",
       "      <td>49.94 %</td>\n",
       "    </tr>\n",
       "    <tr>\n",
       "      <th>CompetitionOpenSinceYear</th>\n",
       "      <td>323348</td>\n",
       "      <td>31.79 %</td>\n",
       "    </tr>\n",
       "    <tr>\n",
       "      <th>CompetitionOpenSinceMonth</th>\n",
       "      <td>323348</td>\n",
       "      <td>31.79 %</td>\n",
       "    </tr>\n",
       "    <tr>\n",
       "      <th>CompetitionDistance</th>\n",
       "      <td>2642</td>\n",
       "      <td>0.26 %</td>\n",
       "    </tr>\n",
       "    <tr>\n",
       "      <th>SchoolHoliday</th>\n",
       "      <td>0</td>\n",
       "      <td>0.0 %</td>\n",
       "    </tr>\n",
       "    <tr>\n",
       "      <th>Promo2</th>\n",
       "      <td>0</td>\n",
       "      <td>0.0 %</td>\n",
       "    </tr>\n",
       "    <tr>\n",
       "      <th>Assortment</th>\n",
       "      <td>0</td>\n",
       "      <td>0.0 %</td>\n",
       "    </tr>\n",
       "    <tr>\n",
       "      <th>StoreType</th>\n",
       "      <td>0</td>\n",
       "      <td>0.0 %</td>\n",
       "    </tr>\n",
       "    <tr>\n",
       "      <th>Store</th>\n",
       "      <td>0</td>\n",
       "      <td>0.0 %</td>\n",
       "    </tr>\n",
       "    <tr>\n",
       "      <th>DayOfWeek</th>\n",
       "      <td>0</td>\n",
       "      <td>0.0 %</td>\n",
       "    </tr>\n",
       "    <tr>\n",
       "      <th>Promo</th>\n",
       "      <td>0</td>\n",
       "      <td>0.0 %</td>\n",
       "    </tr>\n",
       "    <tr>\n",
       "      <th>Open</th>\n",
       "      <td>0</td>\n",
       "      <td>0.0 %</td>\n",
       "    </tr>\n",
       "    <tr>\n",
       "      <th>Customers</th>\n",
       "      <td>0</td>\n",
       "      <td>0.0 %</td>\n",
       "    </tr>\n",
       "    <tr>\n",
       "      <th>Sales</th>\n",
       "      <td>0</td>\n",
       "      <td>0.0 %</td>\n",
       "    </tr>\n",
       "    <tr>\n",
       "      <th>Day</th>\n",
       "      <td>0</td>\n",
       "      <td>0.0 %</td>\n",
       "    </tr>\n",
       "    <tr>\n",
       "      <th>Month</th>\n",
       "      <td>0</td>\n",
       "      <td>0.0 %</td>\n",
       "    </tr>\n",
       "    <tr>\n",
       "      <th>Year</th>\n",
       "      <td>0</td>\n",
       "      <td>0.0 %</td>\n",
       "    </tr>\n",
       "    <tr>\n",
       "      <th>Date</th>\n",
       "      <td>0</td>\n",
       "      <td>0.0 %</td>\n",
       "    </tr>\n",
       "    <tr>\n",
       "      <th>StateHoliday</th>\n",
       "      <td>0</td>\n",
       "      <td>0.0 %</td>\n",
       "    </tr>\n",
       "  </tbody>\n",
       "</table>\n",
       "</div>"
      ],
      "text/plain": [
       "                           total_missing_values missing_percentage\n",
       "PromoInterval                            508031            49.94 %\n",
       "Promo2SinceYear                          508031            49.94 %\n",
       "Promo2SinceWeek                          508031            49.94 %\n",
       "CompetitionOpenSinceYear                 323348            31.79 %\n",
       "CompetitionOpenSinceMonth                323348            31.79 %\n",
       "CompetitionDistance                        2642             0.26 %\n",
       "SchoolHoliday                                 0              0.0 %\n",
       "Promo2                                        0              0.0 %\n",
       "Assortment                                    0              0.0 %\n",
       "StoreType                                     0              0.0 %\n",
       "Store                                         0              0.0 %\n",
       "DayOfWeek                                     0              0.0 %\n",
       "Promo                                         0              0.0 %\n",
       "Open                                          0              0.0 %\n",
       "Customers                                     0              0.0 %\n",
       "Sales                                         0              0.0 %\n",
       "Day                                           0              0.0 %\n",
       "Month                                         0              0.0 %\n",
       "Year                                          0              0.0 %\n",
       "Date                                          0              0.0 %\n",
       "StateHoliday                                  0              0.0 %"
      ]
     },
     "execution_count": 53,
     "metadata": {},
     "output_type": "execute_result"
    }
   ],
   "source": [
    "missing = merged_df.percent_missing(merged_train_store_df)\n",
    "results.add_data('missing_data',missing)\n",
    "missing\n",
    "merged_df.missing_values_table()"
   ]
  },
  {
   "cell_type": "markdown",
   "id": "85654576",
   "metadata": {},
   "source": [
    ">`Our merged data has 10% missing values`"
   ]
  },
  {
   "cell_type": "code",
   "execution_count": null,
   "id": "d82bf2ff",
   "metadata": {},
   "outputs": [],
   "source": []
  }
 ],
 "metadata": {
  "kernelspec": {
   "display_name": "Python 3",
   "language": "python",
   "name": "python3"
  },
  "language_info": {
   "codemirror_mode": {
    "name": "ipython",
    "version": 3
   },
   "file_extension": ".py",
   "mimetype": "text/x-python",
   "name": "python",
   "nbconvert_exporter": "python",
   "pygments_lexer": "ipython3",
   "version": "3.8.8"
  }
 },
 "nbformat": 4,
 "nbformat_minor": 5
}

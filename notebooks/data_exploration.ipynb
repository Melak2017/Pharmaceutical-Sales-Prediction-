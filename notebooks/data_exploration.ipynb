{
 "cells": [
  {
   "cell_type": "markdown",
   "id": "fe5d0f9b",
   "metadata": {},
   "source": [
    "*** \n",
    "                                    The following are data descriptions.\n",
    "***\n",
    "***\n",
    "**Id**-an Id that represents a (Store, Date) duple within the test set<br>\n",
    "**Store**-a unique Id for each store<br>\n",
    "**Sales** - the turnover for any given day (this is what you are predicting)<br>\n",
    "**Customers** - the number of customers on a given day<br>\n",
    "**Open** - an indicator for whether the store was open: `0 = closed, 1 = open`<br>\n",
    "**StateHoliday** - indicates a state holiday. Normally all stores, with few exceptions, are closed on state holidays. Note that all schools are closed on public holidays and weekends.`a = public holiday, b = Easter holiday, c = Christmas, 0 = None`<br>\n",
    "**SchoolHoliday** - indicates if the (Store, Date) was affected by the closure of public schools<br>\n",
    "**StoreType** - differentiates between 4 different store models: a, b, c, d<br>\n",
    "**Assortment** - describes an assortment level: `a = basic, b = extra, c = extended.` Read more about assortment here<br>\n",
    "**CompetitionDistance** - distance in meters to the nearest competitor store<br>\n",
    "**CompetitionOpenSince[Month/Year]** - gives the approximate year and month of the time the nearest competitor was opened<br>\n",
    "**Promo** - indicates whether a store is running a promo on that day<br>\n",
    "**Promo2** - Promo2 is a continuing and consecutive promotion for some stores:`0 = store is not participating, 1 = store is participating`<br>\n",
    "**Promo2Since[Year/Week]** - describes the year and calendar week when the store started participating in Promo2<br>\n",
    "**PromoInterval** - describes the consecutive intervals Promo2 is started, naming the months the promotion is started anew. E.g. \"Feb,May,Aug,Nov\" means each round starts in February, May, August, November of any given year for that store\n",
    "***"
   ]
  },
  {
   "cell_type": "code",
   "execution_count": 51,
   "id": "296d9cbd",
   "metadata": {},
   "outputs": [],
   "source": [
    "# Ignore Warnings\n",
    "import warnings\n",
    "warnings.filterwarnings(\"ignore\")\n",
    "\n",
    "#for easy access to path\n",
    "import sys\n",
    "import os\n",
    "\n",
    "#importing packages for data manuplation and visualization\n",
    "import numpy as np\n",
    "import pandas as pd\n",
    "import math\n",
    "\n",
    "# Modelling Algorithm\n",
    "from sklearn.tree import DecisionTreeRegressor\n",
    "from sklearn.neural_network import MLPRegressor\n",
    "from sklearn.linear_model import LogisticRegression\n",
    "from sklearn.neighbors import KNeighborsRegressor\n",
    "from sklearn.ensemble import RandomForestRegressor, GradientBoostingRegressor\n",
    "\n",
    "# Modelling Helpers\n",
    "#from sklearn.preprocessing import Imputer, Normalizer\n",
    "from sklearn.model_selection import train_test_split\n",
    "from sklearn.feature_selection import RFECV\n",
    "\n",
    "# Visualization\n",
    "import seaborn as sns\n",
    "import matplotlib.pyplot as plt\n",
    "import matplotlib as mpl\n",
    "\n",
    "# Visualization Configuration\n",
    "%matplotlib inline\n",
    "sns.set()"
   ]
  },
  {
   "cell_type": "code",
   "execution_count": 2,
   "id": "17bcb41f",
   "metadata": {},
   "outputs": [],
   "source": [
    "#Acessing scripts and data path\n",
    "sys.path.append(os.path.abspath(os.path.join('data')))\n",
    "sys.path.insert(0,'../scripts/')"
   ]
  },
  {
   "cell_type": "code",
   "execution_count": 3,
   "id": "53d0af18",
   "metadata": {},
   "outputs": [],
   "source": [
    "#import local libraries\n",
    "from clean_train_test_df import CleanStoreDf\n",
    "from data_preview import DataPreview\n",
    "from data_loader import load_df_from_csv\n",
    "from data_manipulation import DataManipulator\n",
    "from plots import *\n",
    "from result import ResultPicker"
   ]
  },
  {
   "cell_type": "code",
   "execution_count": 4,
   "id": "b7c83d61",
   "metadata": {},
   "outputs": [],
   "source": [
    "#reading our data\n",
    "pd.set_option('max_column', None)\n",
    "pd.set_option('max_rows', None)\n",
    "\n",
    "store_df=pd.read_csv('../data/store.csv')\n",
    "train_df=pd.read_csv('../data/train.csv')\n",
    "test_df=pd.read_csv('../data/test.csv')\n",
    "\n",
    "#creating an object\n",
    "store_data=DataPreview(store_df)\n",
    "train_data=DataPreview(train_df)\n",
    "test_data=DataPreview(test_df)"
   ]
  },
  {
   "cell_type": "code",
   "execution_count": 5,
   "id": "5fa785cb",
   "metadata": {},
   "outputs": [],
   "source": [
    "results = ResultPicker()"
   ]
  },
  {
   "cell_type": "markdown",
   "id": "51d89e30",
   "metadata": {},
   "source": [
    "###### STORE DATASET"
   ]
  },
  {
   "cell_type": "code",
   "execution_count": 6,
   "id": "5169b80c",
   "metadata": {},
   "outputs": [
    {
     "name": "stdout",
     "output_type": "stream",
     "text": [
      "The dataset contains 21.01 % missing values.\n"
     ]
    },
    {
     "data": {
      "text/html": [
       "<div>\n",
       "<style scoped>\n",
       "    .dataframe tbody tr th:only-of-type {\n",
       "        vertical-align: middle;\n",
       "    }\n",
       "\n",
       "    .dataframe tbody tr th {\n",
       "        vertical-align: top;\n",
       "    }\n",
       "\n",
       "    .dataframe thead th {\n",
       "        text-align: right;\n",
       "    }\n",
       "</style>\n",
       "<table border=\"1\" class=\"dataframe\">\n",
       "  <thead>\n",
       "    <tr style=\"text-align: right;\">\n",
       "      <th></th>\n",
       "      <th>total_missing_values</th>\n",
       "      <th>missing_percentage</th>\n",
       "    </tr>\n",
       "  </thead>\n",
       "  <tbody>\n",
       "    <tr>\n",
       "      <th>Promo2SinceWeek</th>\n",
       "      <td>544</td>\n",
       "      <td>48.79 %</td>\n",
       "    </tr>\n",
       "    <tr>\n",
       "      <th>Promo2SinceYear</th>\n",
       "      <td>544</td>\n",
       "      <td>48.79 %</td>\n",
       "    </tr>\n",
       "    <tr>\n",
       "      <th>PromoInterval</th>\n",
       "      <td>544</td>\n",
       "      <td>48.79 %</td>\n",
       "    </tr>\n",
       "    <tr>\n",
       "      <th>CompetitionOpenSinceMonth</th>\n",
       "      <td>354</td>\n",
       "      <td>31.75 %</td>\n",
       "    </tr>\n",
       "    <tr>\n",
       "      <th>CompetitionOpenSinceYear</th>\n",
       "      <td>354</td>\n",
       "      <td>31.75 %</td>\n",
       "    </tr>\n",
       "    <tr>\n",
       "      <th>CompetitionDistance</th>\n",
       "      <td>3</td>\n",
       "      <td>0.27 %</td>\n",
       "    </tr>\n",
       "    <tr>\n",
       "      <th>Store</th>\n",
       "      <td>0</td>\n",
       "      <td>0.0 %</td>\n",
       "    </tr>\n",
       "    <tr>\n",
       "      <th>StoreType</th>\n",
       "      <td>0</td>\n",
       "      <td>0.0 %</td>\n",
       "    </tr>\n",
       "    <tr>\n",
       "      <th>Assortment</th>\n",
       "      <td>0</td>\n",
       "      <td>0.0 %</td>\n",
       "    </tr>\n",
       "    <tr>\n",
       "      <th>Promo2</th>\n",
       "      <td>0</td>\n",
       "      <td>0.0 %</td>\n",
       "    </tr>\n",
       "  </tbody>\n",
       "</table>\n",
       "</div>"
      ],
      "text/plain": [
       "                           total_missing_values missing_percentage\n",
       "Promo2SinceWeek                             544            48.79 %\n",
       "Promo2SinceYear                             544            48.79 %\n",
       "PromoInterval                               544            48.79 %\n",
       "CompetitionOpenSinceMonth                   354            31.75 %\n",
       "CompetitionOpenSinceYear                    354            31.75 %\n",
       "CompetitionDistance                           3             0.27 %\n",
       "Store                                         0              0.0 %\n",
       "StoreType                                     0              0.0 %\n",
       "Assortment                                    0              0.0 %\n",
       "Promo2                                        0              0.0 %"
      ]
     },
     "execution_count": 6,
     "metadata": {},
     "output_type": "execute_result"
    }
   ],
   "source": [
    "#check if the data has null values\n",
    "missing = store_data.percent_missing(store_df)\n",
    "results.add_data('missing_data',missing)\n",
    "missing\n",
    "\n",
    "#get the missing percenatage in each columns\n",
    "store_data.missing_values_table()"
   ]
  },
  {
   "cell_type": "markdown",
   "id": "1df4fc44",
   "metadata": {},
   "source": [
    "> The store data has 21.01% missing values.\n",
    ">>`Promo2SinceWeek`,`Promo2SinceYear` and `PromoInterval` has higher missing values and need to be dropped.\t"
   ]
  },
  {
   "cell_type": "markdown",
   "id": "56ebc80d",
   "metadata": {},
   "source": [
    "###### TRAIN DATASET AND TEST DATASET"
   ]
  },
  {
   "cell_type": "code",
   "execution_count": 7,
   "id": "47f82c72",
   "metadata": {},
   "outputs": [
    {
     "data": {
      "text/plain": [
       "Store             int64\n",
       "DayOfWeek         int64\n",
       "Date             object\n",
       "Sales             int64\n",
       "Customers         int64\n",
       "Open              int64\n",
       "Promo             int64\n",
       "StateHoliday     object\n",
       "SchoolHoliday     int64\n",
       "dtype: object"
      ]
     },
     "execution_count": 7,
     "metadata": {},
     "output_type": "execute_result"
    }
   ],
   "source": [
    "train_data.show_datatypes()"
   ]
  },
  {
   "cell_type": "code",
   "execution_count": 8,
   "id": "40cc7d74",
   "metadata": {},
   "outputs": [
    {
     "data": {
      "text/plain": [
       "Id                 int64\n",
       "Store              int64\n",
       "DayOfWeek          int64\n",
       "Date              object\n",
       "Open             float64\n",
       "Promo              int64\n",
       "StateHoliday      object\n",
       "SchoolHoliday      int64\n",
       "dtype: object"
      ]
     },
     "execution_count": 8,
     "metadata": {},
     "output_type": "execute_result"
    }
   ],
   "source": [
    "test_data.show_datatypes()"
   ]
  },
  {
   "cell_type": "code",
   "execution_count": 9,
   "id": "25da040f",
   "metadata": {},
   "outputs": [
    {
     "name": "stdout",
     "output_type": "stream",
     "text": [
      "The dataset contains 0.0 % missing values.\n",
      "The dataset contains 0.0 % missing values.\n"
     ]
    }
   ],
   "source": [
    "#check if the data has null values\n",
    "train_data.percent_missing(train_df)\n",
    "test_data.percent_missing(test_df)"
   ]
  },
  {
   "cell_type": "markdown",
   "id": "35fdc221",
   "metadata": {},
   "source": [
    ">Both `Train` and `Test` dataset has no missing vlaues."
   ]
  },
  {
   "cell_type": "code",
   "execution_count": 10,
   "id": "c8f7bdcf",
   "metadata": {},
   "outputs": [],
   "source": [
    "#changin the datatype\n",
    "train_data_cleaner = CleanStoreDf(train_df)\n",
    "test_data_cleaner = CleanStoreDf(test_df)"
   ]
  },
  {
   "cell_type": "code",
   "execution_count": 11,
   "id": "ea1125b8",
   "metadata": {},
   "outputs": [],
   "source": [
    "train_data_cleaner.change_column_to_date_type('Date')\n",
    "test_data_cleaner.change_column_to_date_type('Date')"
   ]
  },
  {
   "cell_type": "code",
   "execution_count": 12,
   "id": "64d661dc",
   "metadata": {},
   "outputs": [
    {
     "data": {
      "text/plain": [
       "Id                        int64\n",
       "Store                     int64\n",
       "DayOfWeek                 int64\n",
       "Date             datetime64[ns]\n",
       "Open                    float64\n",
       "Promo                     int64\n",
       "StateHoliday             object\n",
       "SchoolHoliday             int64\n",
       "dtype: object"
      ]
     },
     "execution_count": 12,
     "metadata": {},
     "output_type": "execute_result"
    }
   ],
   "source": [
    "test_data_cleaner.df.dtypes"
   ]
  },
  {
   "cell_type": "markdown",
   "id": "25c3e952",
   "metadata": {},
   "source": [
    ">The `Date` column was object type and need to be changed for extracting the year,months and days.<br>\n",
    ">The data type of date column is changed to datetime as seen in the output"
   ]
  },
  {
   "cell_type": "code",
   "execution_count": 13,
   "id": "ab9ac8c4",
   "metadata": {},
   "outputs": [],
   "source": [
    "# Separating date for train and test\n",
    "train_data_cleaner.separate_date_column(date_column='Date')\n",
    "test_data_cleaner.separate_date_column(date_column='Date')"
   ]
  },
  {
   "cell_type": "code",
   "execution_count": 18,
   "id": "40f83683",
   "metadata": {},
   "outputs": [
    {
     "data": {
      "text/plain": [
       "Store             int64\n",
       "DayOfWeek         int64\n",
       "Year              int64\n",
       "Month             int64\n",
       "Day               int64\n",
       "Sales             int64\n",
       "Customers         int64\n",
       "Open              int64\n",
       "Promo             int64\n",
       "StateHoliday     object\n",
       "SchoolHoliday     int64\n",
       "dtype: object"
      ]
     },
     "execution_count": 18,
     "metadata": {},
     "output_type": "execute_result"
    }
   ],
   "source": [
    "train_data_cleaner.df.dtypes"
   ]
  },
  {
   "cell_type": "markdown",
   "id": "0f11b19c",
   "metadata": {},
   "source": [
    ">The date column is separated into `Year`,`Month` and `Day`."
   ]
  },
  {
   "cell_type": "markdown",
   "id": "4254986d",
   "metadata": {},
   "source": [
    "#### Check for distribution in both training and test sets - are the promotions distributed similarly between these two groups?"
   ]
  },
  {
   "cell_type": "code",
   "execution_count": 73,
   "id": "6c4581a3",
   "metadata": {},
   "outputs": [
    {
     "data": {
      "text/plain": [
       "<AxesSubplot:xlabel='Promo', ylabel='Density'>"
      ]
     },
     "execution_count": 73,
     "metadata": {},
     "output_type": "execute_result"
    },
    {
     "data": {
      "image/png": "[encoded data removed]",
      "text/plain": [
       "<Figure size 1440x360 with 2 Axes>"
      ]
     },
     "metadata": {},
     "output_type": "display_data"
    }
   ],
   "source": [
    "fig, axs = plt.subplots(1, 2, figsize=(20, 5))\n",
    "sns.distplot(train_df['Promo'],ax=axs[0])#.set_title('Distribution of Train Promo)\n",
    "sns.distplot(test_df['Promo'],ax=axs[1])#.set_title('Distribution of Test Promo')\n"
   ]
  },
  {
   "cell_type": "markdown",
   "id": "6635263e",
   "metadata": {},
   "source": [
    ">Distribution of Train and Test Promo"
   ]
  },
  {
   "cell_type": "code",
   "execution_count": 87,
   "id": "56d1b8bc",
   "metadata": {},
   "outputs": [
    {
     "data": {
      "text/plain": [
       "<AxesSubplot:xlabel='Year', ylabel='Promo'>"
      ]
     },
     "execution_count": 87,
     "metadata": {},
     "output_type": "execute_result"
    },
    {
     "data": {
      "image/png": "[encoded data removed]",
      "text/plain": [
       "<Figure size 1440x360 with 2 Axes>"
      ]
     },
     "metadata": {},
     "output_type": "display_data"
    }
   ],
   "source": [
    "fig, axs = plt.subplots(1, 2, figsize=(20, 5))\n",
    "fig.suptitle(f'Comparison of Promo Distribution based on Year')\n",
    "sns.barplot('Year',\"Promo\", data=train_df,ax=axs[0])\n",
    "sns.barplot('Year',\"Promo\", data=test_df,ax=axs[1])"
   ]
  },
  {
   "cell_type": "markdown",
   "id": "43ca40c7",
   "metadata": {},
   "source": [
    ">Promotion was used only in 2015 for test data while  it was used for three consecutive years for train."
   ]
  },
  {
   "cell_type": "markdown",
   "id": "11972e4d",
   "metadata": {},
   "source": [
    "### Comparison of sales behavior before, during and after holidays"
   ]
  },
  {
   "cell_type": "markdown",
   "id": "e711bff0",
   "metadata": {},
   "source": [
    "##### SCHOOL HOLYDAYS"
   ]
  },
  {
   "cell_type": "code",
   "execution_count": 89,
   "id": "c6bf621b",
   "metadata": {},
   "outputs": [
    {
     "data": {
      "text/plain": [
       "Index(['Store', 'DayOfWeek', 'Date', 'Year', 'Month', 'Day', 'Sales',\n",
       "       'Customers', 'Open', 'Promo', 'StateHoliday', 'SchoolHoliday'],\n",
       "      dtype='object')"
      ]
     },
     "execution_count": 89,
     "metadata": {},
     "output_type": "execute_result"
    }
   ],
   "source": [
    "train_df['SchoolHoliday'].unique()\n",
    "train_df.columns"
   ]
  },
  {
   "cell_type": "code",
   "execution_count": 101,
   "id": "08a1ac13",
   "metadata": {},
   "outputs": [
    {
     "data": {
      "text/plain": [
       "<AxesSubplot:xlabel='Month', ylabel='Sales'>"
      ]
     },
     "execution_count": 101,
     "metadata": {},
     "output_type": "execute_result"
    },
    {
     "data": {
      "image/png": "[encoded data removed]",
      "text/plain": [
       "<Figure size 1440x360 with 2 Axes>"
      ]
     },
     "metadata": {},
     "output_type": "display_data"
    }
   ],
   "source": [
    "fig, axs = plt.subplots(1, 2, figsize=(20, 5))\n",
    "sns.barplot('SchoolHoliday',\"Sales\", data=train_df,ax=axs[0])\n",
    "sns.lineplot(x='Month', y='Sales', hue='SchoolHoliday', data=train_df,ax=axs[1])"
   ]
  },
  {
   "cell_type": "markdown",
   "id": "a3fe32ad",
   "metadata": {},
   "source": [
    ">Sales druing school Holydays are higher."
   ]
  },
  {
   "cell_type": "markdown",
   "id": "c502367f",
   "metadata": {},
   "source": [
    "##### STATE HOLYDAYS"
   ]
  },
  {
   "cell_type": "code",
   "execution_count": null,
   "id": "30f8f62b",
   "metadata": {},
   "outputs": [],
   "source": []
  }
 ],
 "metadata": {
  "kernelspec": {
   "display_name": "Python 3",
   "language": "python",
   "name": "python3"
  },
  "language_info": {
   "codemirror_mode": {
    "name": "ipython",
    "version": 3
   },
   "file_extension": ".py",
   "mimetype": "text/x-python",
   "name": "python",
   "nbconvert_exporter": "python",
   "pygments_lexer": "ipython3",
   "version": "3.8.8"
  }
 },
 "nbformat": 4,
 "nbformat_minor": 5
}

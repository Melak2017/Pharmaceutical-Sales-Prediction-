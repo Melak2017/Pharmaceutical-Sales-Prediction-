{
 "cells": [
  {
   "cell_type": "markdown",
   "id": "164001c8",
   "metadata": {},
   "source": [
    "*** \n",
    "                                    The following are data descriptions.\n",
    "***\n",
    "***\n",
    "**Id**-an Id that represents a (Store, Date) duple within the test set<br>\n",
    "**Store**-a unique Id for each store<br>\n",
    "**Sales** - the turnover for any given day (this is what you are predicting)<br>\n",
    "**Customers** - the number of customers on a given day<br>\n",
    "**Open** - an indicator for whether the store was open: `0 = closed, 1 = open`<br>\n",
    "**StateHoliday** - indicates a state holiday. Normally all stores, with few exceptions, are closed on state holidays. Note that all<br>\n",
    "**StateHoliday** - indicates a state holiday. Normally all stores, with few exceptions, are closed on state holidays. Note that all<br>\n",
    "schools are closed on public holidays and weekends.`a = public holiday, b = Easter holiday, c = Christmas, 0 = None`<br>\n",
    "**SchoolHoliday** - indicates if the (Store, Date) was affected by the closure of public schools<br>\n",
    "**StoreType** - differentiates between 4 different store models: a, b, c, d<br>\n",
    "**Assortment** - describes an assortment level: `a = basic, b = extra, c = extended.` Read more about assortment here<br>\n",
    "**CompetitionDistance** - distance in meters to the nearest competitor store<br>\n",
    "**CompetitionOpenSince[Month/Year]** - gives the approximate year and month of the time the nearest competitor was opened<br>\n",
    "**Promo** - indicates whether a store is running a promo on that day<br>\n",
    "**Promo2** - Promo2 is a continuing and consecutive promotion for some stores:`0 = store is not participating, 1 = store is participating`<br>\n",
    "**Promo2Since[Year/Week]** - describes the year and calendar week when the store started participating in Promo2<br>\n",
    "**PromoInterval** - describes the consecutive intervals Promo2 is started, naming the months the promotion is started anew. E.g. \"Feb,May,Aug,Nov\" means each round starts in February, May, August, November of any given year for that store\n",
    "***"
   ]
  },
  {
   "cell_type": "code",
   "execution_count": 19,
   "id": "0671af75",
   "metadata": {},
   "outputs": [],
   "source": [
    "# Ignore Warnings\n",
    "import warnings\n",
    "warnings.filterwarnings(\"ignore\")\n",
    "\n",
    "#for easy access to path\n",
    "import sys\n",
    "import os\n",
    "\n",
    "#importing packages for data manuplation and visualization\n",
    "import numpy as np\n",
    "import pandas as pd\n",
    "import math\n",
    "\n",
    "# Modelling Algorithm\n",
    "from sklearn.tree import DecisionTreeRegressor\n",
    "from sklearn.neural_network import MLPRegressor\n",
    "from sklearn.linear_model import LogisticRegression\n",
    "from sklearn.neighbors import KNeighborsRegressor\n",
    "from sklearn.ensemble import RandomForestRegressor, GradientBoostingRegressor\n",
    "\n",
    "# Modelling Helpers\n",
    "#from sklearn.preprocessing import Imputer, Normalizer\n",
    "from sklearn.model_selection import train_test_split\n",
    "from sklearn.feature_selection import RFECV\n",
    "\n",
    "# Visualization\n",
    "import seaborn as sns\n",
    "import matplotlib.pyplot as plt\n",
    "import matplotlib as mpl\n",
    "\n",
    "# Visualization Configuration\n",
    "%matplotlib inline"
   ]
  },
  {
   "cell_type": "code",
   "execution_count": 21,
   "id": "6ca67be6",
   "metadata": {},
   "outputs": [],
   "source": [
    "#Acessing scripts and data path\n",
    "sys.path.append(os.path.abspath(os.path.join('data')))\n",
    "sys.path.insert(0,'../scripts/')"
   ]
  },
  {
   "cell_type": "code",
   "execution_count": 26,
   "id": "c07c2a9c",
   "metadata": {},
   "outputs": [],
   "source": [
    "#import local libraries\n",
    "from data_preview import DataPreview\n",
    "from data_loader import load_df_from_csv\n",
    "from data_manipulation import DataManipulator\n",
    "from plots import *\n",
    "from result import ResultPicker"
   ]
  },
  {
   "cell_type": "code",
   "execution_count": 28,
   "id": "a11a83f3",
   "metadata": {},
   "outputs": [],
   "source": [
    "#reading our data\n",
    "pd.set_option('max_column', None)\n",
    "pd.set_option('max_rows', None)\n",
    "\n",
    "store_df=pd.read_csv('../data/store.csv')\n",
    "train_df=pd.read_csv('../data/train.csv')\n",
    "test_df=pd.read_csv('../data/test.csv')"
   ]
  },
  {
   "cell_type": "code",
   "execution_count": null,
   "id": "47e04e64",
   "metadata": {},
   "outputs": [],
   "source": []
  }
 ],
 "metadata": {
  "kernelspec": {
   "display_name": "Python 3",
   "language": "python",
   "name": "python3"
  },
  "language_info": {
   "codemirror_mode": {
    "name": "ipython",
    "version": 3
   },
   "file_extension": ".py",
   "mimetype": "text/x-python",
   "name": "python",
   "nbconvert_exporter": "python",
   "pygments_lexer": "ipython3",
   "version": "3.8.8"
  }
 },
 "nbformat": 4,
 "nbformat_minor": 5
}
